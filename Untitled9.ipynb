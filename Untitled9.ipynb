{
  "nbformat": 4,
  "nbformat_minor": 0,
  "metadata": {
    "colab": {
      "provenance": [],
      "gpuType": "L4",
      "mount_file_id": "1s4370T5V7W5HyZgbyEBnbIx5kV8pCdjB",
      "authorship_tag": "ABX9TyOcH6TKF62/U8iF3qGNVCer",
      "include_colab_link": true
    },
    "kernelspec": {
      "name": "python3",
      "display_name": "Python 3"
    },
    "language_info": {
      "name": "python"
    },
    "accelerator": "GPU"
  },
  "cells": [
    {
      "cell_type": "markdown",
      "metadata": {
        "id": "view-in-github",
        "colab_type": "text"
      },
      "source": [
        "<a href=\"https://colab.research.google.com/github/jaminitachi/aikaraka/blob/master/Untitled9.ipynb\" target=\"_parent\"><img src=\"https://colab.research.google.com/assets/colab-badge.svg\" alt=\"Open In Colab\"/></a>"
      ]
    },
    {
      "cell_type": "markdown",
      "source": [
        "#의존성 주입"
      ],
      "metadata": {
        "id": "016MeYVnlKu7"
      }
    },
    {
      "cell_type": "code",
      "execution_count": 1,
      "metadata": {
        "colab": {
          "base_uri": "https://localhost:8080/"
        },
        "id": "Jc12IKDVfQ6k",
        "outputId": "2f2af771-3a91-4ba2-9eea-c17b69f898e2"
      },
      "outputs": [
        {
          "output_type": "stream",
          "name": "stdout",
          "text": [
            "Cloning into 'auto_avsr'...\n",
            "remote: Enumerating objects: 272, done.\u001b[K\n",
            "remote: Counting objects: 100% (91/91), done.\u001b[K\n",
            "remote: Compressing objects: 100% (56/56), done.\u001b[K\n",
            "remote: Total 272 (delta 53), reused 35 (delta 35), pack-reused 181\u001b[K\n",
            "Receiving objects: 100% (272/272), 31.46 MiB | 10.68 MiB/s, done.\n",
            "Resolving deltas: 100% (95/95), done.\n"
          ]
        }
      ],
      "source": [
        "!git clone https://github.com/mpc001/auto_avsr.git"
      ]
    },
    {
      "cell_type": "code",
      "source": [
        "!pip install torch torchvision torchaudio\n",
        "!pip install pytorch-lightning==1.5.10\n",
        "!pip install sentencepiece\n",
        "!pip install av\n",
        "!pip install hydra-core --upgrade\n",
        "!pip install 'ffmpeg<5'\n"
      ],
      "metadata": {
        "colab": {
          "base_uri": "https://localhost:8080/"
        },
        "id": "AVqaHv-Fgua2",
        "outputId": "db6a7b35-d2e2-4c28-ae63-a2547536ea5c"
      },
      "execution_count": 5,
      "outputs": [
        {
          "output_type": "stream",
          "name": "stdout",
          "text": [
            "Requirement already satisfied: torch in /usr/local/lib/python3.10/dist-packages (2.3.1+cu121)\n",
            "Requirement already satisfied: torchvision in /usr/local/lib/python3.10/dist-packages (0.18.1+cu121)\n",
            "Requirement already satisfied: torchaudio in /usr/local/lib/python3.10/dist-packages (2.3.1+cu121)\n",
            "Requirement already satisfied: filelock in /usr/local/lib/python3.10/dist-packages (from torch) (3.15.4)\n",
            "Requirement already satisfied: typing-extensions>=4.8.0 in /usr/local/lib/python3.10/dist-packages (from torch) (4.12.2)\n",
            "Requirement already satisfied: sympy in /usr/local/lib/python3.10/dist-packages (from torch) (1.13.1)\n",
            "Requirement already satisfied: networkx in /usr/local/lib/python3.10/dist-packages (from torch) (3.3)\n",
            "Requirement already satisfied: jinja2 in /usr/local/lib/python3.10/dist-packages (from torch) (3.1.4)\n",
            "Requirement already satisfied: fsspec in /usr/local/lib/python3.10/dist-packages (from torch) (2024.6.1)\n",
            "Requirement already satisfied: nvidia-cuda-nvrtc-cu12==12.1.105 in /usr/local/lib/python3.10/dist-packages (from torch) (12.1.105)\n",
            "Requirement already satisfied: nvidia-cuda-runtime-cu12==12.1.105 in /usr/local/lib/python3.10/dist-packages (from torch) (12.1.105)\n",
            "Requirement already satisfied: nvidia-cuda-cupti-cu12==12.1.105 in /usr/local/lib/python3.10/dist-packages (from torch) (12.1.105)\n",
            "Requirement already satisfied: nvidia-cudnn-cu12==8.9.2.26 in /usr/local/lib/python3.10/dist-packages (from torch) (8.9.2.26)\n",
            "Requirement already satisfied: nvidia-cublas-cu12==12.1.3.1 in /usr/local/lib/python3.10/dist-packages (from torch) (12.1.3.1)\n",
            "Requirement already satisfied: nvidia-cufft-cu12==11.0.2.54 in /usr/local/lib/python3.10/dist-packages (from torch) (11.0.2.54)\n",
            "Requirement already satisfied: nvidia-curand-cu12==10.3.2.106 in /usr/local/lib/python3.10/dist-packages (from torch) (10.3.2.106)\n",
            "Requirement already satisfied: nvidia-cusolver-cu12==11.4.5.107 in /usr/local/lib/python3.10/dist-packages (from torch) (11.4.5.107)\n",
            "Requirement already satisfied: nvidia-cusparse-cu12==12.1.0.106 in /usr/local/lib/python3.10/dist-packages (from torch) (12.1.0.106)\n",
            "Requirement already satisfied: nvidia-nccl-cu12==2.20.5 in /usr/local/lib/python3.10/dist-packages (from torch) (2.20.5)\n",
            "Requirement already satisfied: nvidia-nvtx-cu12==12.1.105 in /usr/local/lib/python3.10/dist-packages (from torch) (12.1.105)\n",
            "Requirement already satisfied: triton==2.3.1 in /usr/local/lib/python3.10/dist-packages (from torch) (2.3.1)\n",
            "Requirement already satisfied: nvidia-nvjitlink-cu12 in /usr/local/lib/python3.10/dist-packages (from nvidia-cusolver-cu12==11.4.5.107->torch) (12.5.82)\n",
            "Requirement already satisfied: numpy in /usr/local/lib/python3.10/dist-packages (from torchvision) (1.26.4)\n",
            "Requirement already satisfied: pillow!=8.3.*,>=5.3.0 in /usr/local/lib/python3.10/dist-packages (from torchvision) (9.4.0)\n",
            "Requirement already satisfied: MarkupSafe>=2.0 in /usr/local/lib/python3.10/dist-packages (from jinja2->torch) (2.1.5)\n",
            "Requirement already satisfied: mpmath<1.4,>=1.1.0 in /usr/local/lib/python3.10/dist-packages (from sympy->torch) (1.3.0)\n",
            "Collecting pytorch-lightning==1.5.10\n",
            "  Using cached pytorch_lightning-1.5.10-py3-none-any.whl.metadata (31 kB)\n",
            "\u001b[33mWARNING: Ignoring version 1.5.10 of pytorch-lightning since it has invalid metadata:\n",
            "Requested pytorch-lightning==1.5.10 from https://files.pythonhosted.org/packages/18/f1/f59b307f75db1886c96e396eec878501510677394868680b8d2b8b58c47c/pytorch_lightning-1.5.10-py3-none-any.whl has invalid metadata: .* suffix can only be used with `==` or `!=` operators\n",
            "    torch (>=1.7.*)\n",
            "           ~~~~~~^\n",
            "Please use pip<24.1 if you need to use this version.\u001b[0m\u001b[33m\n",
            "\u001b[0m\u001b[31mERROR: Could not find a version that satisfies the requirement pytorch-lightning==1.5.10 (from versions: 0.0.2, 0.2, 0.2.2, 0.2.3, 0.2.4, 0.2.4.1, 0.2.5, 0.2.5.1, 0.2.5.2, 0.2.6, 0.3, 0.3.1, 0.3.2, 0.3.3, 0.3.4, 0.3.4.1, 0.3.5, 0.3.6, 0.3.6.1, 0.3.6.3, 0.3.6.4, 0.3.6.5, 0.3.6.6, 0.3.6.7, 0.3.6.8, 0.3.6.9, 0.4.0, 0.4.1, 0.4.2, 0.4.3, 0.4.4, 0.4.5, 0.4.6, 0.4.7, 0.4.8, 0.4.9, 0.5.0, 0.5.1, 0.5.1.2, 0.5.1.3, 0.5.2, 0.5.2.1, 0.5.3, 0.5.3.1, 0.5.3.2, 0.5.3.3, 0.6.0, 0.7.1, 0.7.3, 0.7.5, 0.7.6, 0.8.1, 0.8.3, 0.8.4, 0.8.5, 0.9.0, 0.10.0, 1.0.0, 1.0.1, 1.0.2, 1.0.3, 1.0.4, 1.0.5, 1.0.6, 1.0.7, 1.0.8, 1.1.0, 1.1.1, 1.1.2, 1.1.3, 1.1.4, 1.1.5, 1.1.6, 1.1.7, 1.1.8, 1.2.0rc0, 1.2.0rc1, 1.2.0rc2, 1.2.0, 1.2.1, 1.2.2, 1.2.3, 1.2.4, 1.2.5, 1.2.6, 1.2.7, 1.2.8, 1.2.9, 1.2.10, 1.3.0rc1, 1.3.0rc2, 1.3.0rc3, 1.3.0, 1.3.1, 1.3.2, 1.3.3, 1.3.4, 1.3.5, 1.3.6, 1.3.7, 1.3.7.post0, 1.3.8, 1.4.0rc0, 1.4.0rc1, 1.4.0rc2, 1.4.0, 1.4.1, 1.4.2, 1.4.3, 1.4.4, 1.4.5, 1.4.6, 1.4.7, 1.4.8, 1.4.9, 1.5.0rc0, 1.5.0rc1, 1.5.0, 1.5.1, 1.5.2, 1.5.3, 1.5.4, 1.5.5, 1.5.6, 1.5.7, 1.5.8, 1.5.9, 1.5.10, 1.6.0rc0, 1.6.0rc1, 1.6.0, 1.6.1, 1.6.2, 1.6.3, 1.6.4, 1.6.5, 1.7.0rc0, 1.7.0rc1, 1.7.0, 1.7.1, 1.7.2, 1.7.3, 1.7.4, 1.7.5, 1.7.6, 1.7.7, 1.8.0rc0, 1.8.0rc1, 1.8.0rc2, 1.8.0, 1.8.0.post1, 1.8.1, 1.8.2, 1.8.3, 1.8.3.post0, 1.8.3.post1, 1.8.3.post2, 1.8.4, 1.8.4.post0, 1.8.5, 1.8.5.post0, 1.8.6, 1.9.0rc0, 1.9.0, 1.9.1, 1.9.2, 1.9.3, 1.9.4, 1.9.5, 2.0.0rc0, 2.0.0, 2.0.1, 2.0.1.post0, 2.0.2, 2.0.3, 2.0.4, 2.0.5, 2.0.6, 2.0.7, 2.0.8, 2.0.9, 2.0.9.post0, 2.1.0rc0, 2.1.0rc1, 2.1.0, 2.1.1, 2.1.2, 2.1.3, 2.1.4, 2.2.0rc0, 2.2.0, 2.2.0.post0, 2.2.1, 2.2.2, 2.2.3, 2.2.4, 2.2.5, 2.3.0, 2.3.1, 2.3.2, 2.3.3)\u001b[0m\u001b[31m\n",
            "\u001b[0m\u001b[31mERROR: No matching distribution found for pytorch-lightning==1.5.10\u001b[0m\u001b[31m\n",
            "\u001b[0mRequirement already satisfied: sentencepiece in /usr/local/lib/python3.10/dist-packages (0.1.99)\n",
            "Requirement already satisfied: av in /usr/local/lib/python3.10/dist-packages (12.3.0)\n",
            "Requirement already satisfied: hydra-core in /usr/local/lib/python3.10/dist-packages (1.3.2)\n",
            "Requirement already satisfied: omegaconf<2.4,>=2.2 in /usr/local/lib/python3.10/dist-packages (from hydra-core) (2.3.0)\n",
            "Requirement already satisfied: antlr4-python3-runtime==4.9.* in /usr/local/lib/python3.10/dist-packages (from hydra-core) (4.9.3)\n",
            "Requirement already satisfied: packaging in /usr/local/lib/python3.10/dist-packages (from hydra-core) (24.1)\n",
            "Requirement already satisfied: PyYAML>=5.1.0 in /usr/local/lib/python3.10/dist-packages (from omegaconf<2.4,>=2.2->hydra-core) (6.0.1)\n",
            "Requirement already satisfied: ffmpeg<5 in /usr/local/lib/python3.10/dist-packages (1.4)\n"
          ]
        }
      ]
    },
    {
      "cell_type": "code",
      "source": [
        "!pip install flask flask-ngrok moviepy torch torchvision torchaudio\n"
      ],
      "metadata": {
        "colab": {
          "base_uri": "https://localhost:8080/"
        },
        "id": "rRYrGqf5lJxJ",
        "outputId": "c7861f1e-021f-47c6-f97a-63544231b172"
      },
      "execution_count": 6,
      "outputs": [
        {
          "output_type": "stream",
          "name": "stdout",
          "text": [
            "Requirement already satisfied: flask in /usr/local/lib/python3.10/dist-packages (2.2.5)\n",
            "Requirement already satisfied: flask-ngrok in /usr/local/lib/python3.10/dist-packages (0.0.25)\n",
            "Requirement already satisfied: moviepy in /usr/local/lib/python3.10/dist-packages (1.0.3)\n",
            "Requirement already satisfied: torch in /usr/local/lib/python3.10/dist-packages (2.3.1+cu121)\n",
            "Requirement already satisfied: torchvision in /usr/local/lib/python3.10/dist-packages (0.18.1+cu121)\n",
            "Requirement already satisfied: torchaudio in /usr/local/lib/python3.10/dist-packages (2.3.1+cu121)\n",
            "Requirement already satisfied: Werkzeug>=2.2.2 in /usr/local/lib/python3.10/dist-packages (from flask) (3.0.3)\n",
            "Requirement already satisfied: Jinja2>=3.0 in /usr/local/lib/python3.10/dist-packages (from flask) (3.1.4)\n",
            "Requirement already satisfied: itsdangerous>=2.0 in /usr/local/lib/python3.10/dist-packages (from flask) (2.2.0)\n",
            "Requirement already satisfied: click>=8.0 in /usr/local/lib/python3.10/dist-packages (from flask) (8.1.7)\n",
            "Requirement already satisfied: requests in /usr/local/lib/python3.10/dist-packages (from flask-ngrok) (2.31.0)\n",
            "Requirement already satisfied: decorator<5.0,>=4.0.2 in /usr/local/lib/python3.10/dist-packages (from moviepy) (4.4.2)\n",
            "Requirement already satisfied: tqdm<5.0,>=4.11.2 in /usr/local/lib/python3.10/dist-packages (from moviepy) (4.66.4)\n",
            "Requirement already satisfied: proglog<=1.0.0 in /usr/local/lib/python3.10/dist-packages (from moviepy) (0.1.10)\n",
            "Requirement already satisfied: numpy>=1.17.3 in /usr/local/lib/python3.10/dist-packages (from moviepy) (1.26.4)\n",
            "Requirement already satisfied: imageio<3.0,>=2.5 in /usr/local/lib/python3.10/dist-packages (from moviepy) (2.34.2)\n",
            "Requirement already satisfied: imageio-ffmpeg>=0.2.0 in /usr/local/lib/python3.10/dist-packages (from moviepy) (0.5.1)\n",
            "Requirement already satisfied: filelock in /usr/local/lib/python3.10/dist-packages (from torch) (3.15.4)\n",
            "Requirement already satisfied: typing-extensions>=4.8.0 in /usr/local/lib/python3.10/dist-packages (from torch) (4.12.2)\n",
            "Requirement already satisfied: sympy in /usr/local/lib/python3.10/dist-packages (from torch) (1.13.1)\n",
            "Requirement already satisfied: networkx in /usr/local/lib/python3.10/dist-packages (from torch) (3.3)\n",
            "Requirement already satisfied: fsspec in /usr/local/lib/python3.10/dist-packages (from torch) (2024.6.1)\n",
            "Requirement already satisfied: nvidia-cuda-nvrtc-cu12==12.1.105 in /usr/local/lib/python3.10/dist-packages (from torch) (12.1.105)\n",
            "Requirement already satisfied: nvidia-cuda-runtime-cu12==12.1.105 in /usr/local/lib/python3.10/dist-packages (from torch) (12.1.105)\n",
            "Requirement already satisfied: nvidia-cuda-cupti-cu12==12.1.105 in /usr/local/lib/python3.10/dist-packages (from torch) (12.1.105)\n",
            "Requirement already satisfied: nvidia-cudnn-cu12==8.9.2.26 in /usr/local/lib/python3.10/dist-packages (from torch) (8.9.2.26)\n",
            "Requirement already satisfied: nvidia-cublas-cu12==12.1.3.1 in /usr/local/lib/python3.10/dist-packages (from torch) (12.1.3.1)\n",
            "Requirement already satisfied: nvidia-cufft-cu12==11.0.2.54 in /usr/local/lib/python3.10/dist-packages (from torch) (11.0.2.54)\n",
            "Requirement already satisfied: nvidia-curand-cu12==10.3.2.106 in /usr/local/lib/python3.10/dist-packages (from torch) (10.3.2.106)\n",
            "Requirement already satisfied: nvidia-cusolver-cu12==11.4.5.107 in /usr/local/lib/python3.10/dist-packages (from torch) (11.4.5.107)\n",
            "Requirement already satisfied: nvidia-cusparse-cu12==12.1.0.106 in /usr/local/lib/python3.10/dist-packages (from torch) (12.1.0.106)\n",
            "Requirement already satisfied: nvidia-nccl-cu12==2.20.5 in /usr/local/lib/python3.10/dist-packages (from torch) (2.20.5)\n",
            "Requirement already satisfied: nvidia-nvtx-cu12==12.1.105 in /usr/local/lib/python3.10/dist-packages (from torch) (12.1.105)\n",
            "Requirement already satisfied: triton==2.3.1 in /usr/local/lib/python3.10/dist-packages (from torch) (2.3.1)\n",
            "Requirement already satisfied: nvidia-nvjitlink-cu12 in /usr/local/lib/python3.10/dist-packages (from nvidia-cusolver-cu12==11.4.5.107->torch) (12.5.82)\n",
            "Requirement already satisfied: pillow!=8.3.*,>=5.3.0 in /usr/local/lib/python3.10/dist-packages (from torchvision) (9.4.0)\n",
            "Requirement already satisfied: setuptools in /usr/local/lib/python3.10/dist-packages (from imageio-ffmpeg>=0.2.0->moviepy) (71.0.4)\n",
            "Requirement already satisfied: MarkupSafe>=2.0 in /usr/local/lib/python3.10/dist-packages (from Jinja2>=3.0->flask) (2.1.5)\n",
            "Requirement already satisfied: charset-normalizer<4,>=2 in /usr/local/lib/python3.10/dist-packages (from requests->flask-ngrok) (3.3.2)\n",
            "Requirement already satisfied: idna<4,>=2.5 in /usr/local/lib/python3.10/dist-packages (from requests->flask-ngrok) (3.7)\n",
            "Requirement already satisfied: urllib3<3,>=1.21.1 in /usr/local/lib/python3.10/dist-packages (from requests->flask-ngrok) (2.0.7)\n",
            "Requirement already satisfied: certifi>=2017.4.17 in /usr/local/lib/python3.10/dist-packages (from requests->flask-ngrok) (2024.7.4)\n",
            "Requirement already satisfied: mpmath<1.4,>=1.1.0 in /usr/local/lib/python3.10/dist-packages (from sympy->torch) (1.3.0)\n"
          ]
        }
      ]
    },
    {
      "cell_type": "code",
      "source": [
        "import os\n",
        "\n",
        "# 현재 작업 디렉토리 확인\n",
        "current_directory = os.getcwd()\n",
        "print(f\"Current working directory: {current_directory}\")\n",
        "\n",
        "# 특정 디렉토리로 이동 (예: auto_avsr 디렉토리)\n",
        "os.chdir('auto_avsr')\n",
        "\n",
        "# 디렉토리 이동 후, 현재 작업 디렉토리 확인\n",
        "current_directory = os.getcwd()\n",
        "print(f\"Current working directory after change: {current_directory}\")\n",
        "\n",
        "# 현재 디렉토리의 파일 목록 확인\n",
        "files = os.listdir(current_directory)\n",
        "print(\"Files in current directory:\")\n",
        "for file in files:\n",
        "    print(file)\n"
      ],
      "metadata": {
        "colab": {
          "base_uri": "https://localhost:8080/"
        },
        "id": "pQ92PQApwY_i",
        "outputId": "8fe9672c-fc2e-46c3-a4ee-b072abb5aa34"
      },
      "execution_count": 8,
      "outputs": [
        {
          "output_type": "stream",
          "name": "stdout",
          "text": [
            "Current working directory: /content\n",
            "Current working directory after change: /content/auto_avsr\n",
            "Files in current directory:\n",
            "train.py\n",
            ".gitignore\n",
            "README.md\n",
            "demo.py\n",
            "lightning_av.py\n",
            "spm\n",
            ".git\n",
            "LICENSE\n",
            "espnet\n",
            "doc\n",
            "datamodule\n",
            "configs\n",
            "lightning.py\n",
            "INSTRUCTION.md\n",
            "cosine.py\n",
            "preparation\n",
            "eval.py\n",
            "avg_ckpts.py\n"
          ]
        }
      ]
    },
    {
      "cell_type": "code",
      "source": [
        "!ls"
      ],
      "metadata": {
        "colab": {
          "base_uri": "https://localhost:8080/"
        },
        "id": "CZz9SzmfwGxu",
        "outputId": "2c4732c8-3c5d-4072-ca37-c080d691795c"
      },
      "execution_count": 7,
      "outputs": [
        {
          "output_type": "stream",
          "name": "stdout",
          "text": [
            "auto_avsr  drive  sample_data\n"
          ]
        }
      ]
    },
    {
      "cell_type": "markdown",
      "source": [
        "#테스트\n"
      ],
      "metadata": {
        "id": "mk8YSN2ozzlV"
      }
    },
    {
      "cell_type": "code",
      "source": [
        "!ls"
      ],
      "metadata": {
        "colab": {
          "base_uri": "https://localhost:8080/"
        },
        "id": "5XY8BA_Rz2vK",
        "outputId": "5f81b779-740d-4f49-e403-7331497726cb"
      },
      "execution_count": 11,
      "outputs": [
        {
          "output_type": "stream",
          "name": "stdout",
          "text": [
            "avg_ckpts.py  cosine.py   demo.py  espnet   INSTRUCTION.md  lightning_av.py  preparation  spm\n",
            "configs       datamodule  doc\t   eval.py  LICENSE\t    lightning.py     README.md\t  train.py\n"
          ]
        }
      ]
    },
    {
      "cell_type": "code",
      "source": [
        "!pip install torch torchvision torchaudio hydra-core pytorch-lightning moviepy\n"
      ],
      "metadata": {
        "colab": {
          "base_uri": "https://localhost:8080/"
        },
        "id": "egtEY98-0Yi2",
        "outputId": "5de3ec2f-979d-4243-8adc-8fc20ff1ac37"
      },
      "execution_count": 13,
      "outputs": [
        {
          "output_type": "stream",
          "name": "stdout",
          "text": [
            "Requirement already satisfied: torch in /usr/local/lib/python3.10/dist-packages (2.3.1+cu121)\n",
            "Requirement already satisfied: torchvision in /usr/local/lib/python3.10/dist-packages (0.18.1+cu121)\n",
            "Requirement already satisfied: torchaudio in /usr/local/lib/python3.10/dist-packages (2.3.1+cu121)\n",
            "Requirement already satisfied: hydra-core in /usr/local/lib/python3.10/dist-packages (1.3.2)\n",
            "Collecting pytorch-lightning\n",
            "  Downloading pytorch_lightning-2.3.3-py3-none-any.whl.metadata (21 kB)\n",
            "Requirement already satisfied: moviepy in /usr/local/lib/python3.10/dist-packages (1.0.3)\n",
            "Requirement already satisfied: filelock in /usr/local/lib/python3.10/dist-packages (from torch) (3.15.4)\n",
            "Requirement already satisfied: typing-extensions>=4.8.0 in /usr/local/lib/python3.10/dist-packages (from torch) (4.12.2)\n",
            "Requirement already satisfied: sympy in /usr/local/lib/python3.10/dist-packages (from torch) (1.13.1)\n",
            "Requirement already satisfied: networkx in /usr/local/lib/python3.10/dist-packages (from torch) (3.3)\n",
            "Requirement already satisfied: jinja2 in /usr/local/lib/python3.10/dist-packages (from torch) (3.1.4)\n",
            "Requirement already satisfied: fsspec in /usr/local/lib/python3.10/dist-packages (from torch) (2024.6.1)\n",
            "Requirement already satisfied: nvidia-cuda-nvrtc-cu12==12.1.105 in /usr/local/lib/python3.10/dist-packages (from torch) (12.1.105)\n",
            "Requirement already satisfied: nvidia-cuda-runtime-cu12==12.1.105 in /usr/local/lib/python3.10/dist-packages (from torch) (12.1.105)\n",
            "Requirement already satisfied: nvidia-cuda-cupti-cu12==12.1.105 in /usr/local/lib/python3.10/dist-packages (from torch) (12.1.105)\n",
            "Requirement already satisfied: nvidia-cudnn-cu12==8.9.2.26 in /usr/local/lib/python3.10/dist-packages (from torch) (8.9.2.26)\n",
            "Requirement already satisfied: nvidia-cublas-cu12==12.1.3.1 in /usr/local/lib/python3.10/dist-packages (from torch) (12.1.3.1)\n",
            "Requirement already satisfied: nvidia-cufft-cu12==11.0.2.54 in /usr/local/lib/python3.10/dist-packages (from torch) (11.0.2.54)\n",
            "Requirement already satisfied: nvidia-curand-cu12==10.3.2.106 in /usr/local/lib/python3.10/dist-packages (from torch) (10.3.2.106)\n",
            "Requirement already satisfied: nvidia-cusolver-cu12==11.4.5.107 in /usr/local/lib/python3.10/dist-packages (from torch) (11.4.5.107)\n",
            "Requirement already satisfied: nvidia-cusparse-cu12==12.1.0.106 in /usr/local/lib/python3.10/dist-packages (from torch) (12.1.0.106)\n",
            "Requirement already satisfied: nvidia-nccl-cu12==2.20.5 in /usr/local/lib/python3.10/dist-packages (from torch) (2.20.5)\n",
            "Requirement already satisfied: nvidia-nvtx-cu12==12.1.105 in /usr/local/lib/python3.10/dist-packages (from torch) (12.1.105)\n",
            "Requirement already satisfied: triton==2.3.1 in /usr/local/lib/python3.10/dist-packages (from torch) (2.3.1)\n",
            "Requirement already satisfied: nvidia-nvjitlink-cu12 in /usr/local/lib/python3.10/dist-packages (from nvidia-cusolver-cu12==11.4.5.107->torch) (12.5.82)\n",
            "Requirement already satisfied: numpy in /usr/local/lib/python3.10/dist-packages (from torchvision) (1.26.4)\n",
            "Requirement already satisfied: pillow!=8.3.*,>=5.3.0 in /usr/local/lib/python3.10/dist-packages (from torchvision) (9.4.0)\n",
            "Requirement already satisfied: omegaconf<2.4,>=2.2 in /usr/local/lib/python3.10/dist-packages (from hydra-core) (2.3.0)\n",
            "Requirement already satisfied: antlr4-python3-runtime==4.9.* in /usr/local/lib/python3.10/dist-packages (from hydra-core) (4.9.3)\n",
            "Requirement already satisfied: packaging in /usr/local/lib/python3.10/dist-packages (from hydra-core) (24.1)\n",
            "Requirement already satisfied: tqdm>=4.57.0 in /usr/local/lib/python3.10/dist-packages (from pytorch-lightning) (4.66.4)\n",
            "Requirement already satisfied: PyYAML>=5.4 in /usr/local/lib/python3.10/dist-packages (from pytorch-lightning) (6.0.1)\n",
            "Collecting torchmetrics>=0.7.0 (from pytorch-lightning)\n",
            "  Downloading torchmetrics-1.4.0.post0-py3-none-any.whl.metadata (19 kB)\n",
            "Collecting lightning-utilities>=0.10.0 (from pytorch-lightning)\n",
            "  Downloading lightning_utilities-0.11.6-py3-none-any.whl.metadata (5.2 kB)\n",
            "Requirement already satisfied: decorator<5.0,>=4.0.2 in /usr/local/lib/python3.10/dist-packages (from moviepy) (4.4.2)\n",
            "Requirement already satisfied: requests<3.0,>=2.8.1 in /usr/local/lib/python3.10/dist-packages (from moviepy) (2.31.0)\n",
            "Requirement already satisfied: proglog<=1.0.0 in /usr/local/lib/python3.10/dist-packages (from moviepy) (0.1.10)\n",
            "Requirement already satisfied: imageio<3.0,>=2.5 in /usr/local/lib/python3.10/dist-packages (from moviepy) (2.34.2)\n",
            "Requirement already satisfied: imageio-ffmpeg>=0.2.0 in /usr/local/lib/python3.10/dist-packages (from moviepy) (0.5.1)\n",
            "Requirement already satisfied: aiohttp!=4.0.0a0,!=4.0.0a1 in /usr/local/lib/python3.10/dist-packages (from fsspec[http]>=2022.5.0->pytorch-lightning) (3.9.5)\n",
            "Requirement already satisfied: setuptools in /usr/local/lib/python3.10/dist-packages (from imageio-ffmpeg>=0.2.0->moviepy) (71.0.4)\n",
            "Requirement already satisfied: charset-normalizer<4,>=2 in /usr/local/lib/python3.10/dist-packages (from requests<3.0,>=2.8.1->moviepy) (3.3.2)\n",
            "Requirement already satisfied: idna<4,>=2.5 in /usr/local/lib/python3.10/dist-packages (from requests<3.0,>=2.8.1->moviepy) (3.7)\n",
            "Requirement already satisfied: urllib3<3,>=1.21.1 in /usr/local/lib/python3.10/dist-packages (from requests<3.0,>=2.8.1->moviepy) (2.0.7)\n",
            "Requirement already satisfied: certifi>=2017.4.17 in /usr/local/lib/python3.10/dist-packages (from requests<3.0,>=2.8.1->moviepy) (2024.7.4)\n",
            "Requirement already satisfied: MarkupSafe>=2.0 in /usr/local/lib/python3.10/dist-packages (from jinja2->torch) (2.1.5)\n",
            "Requirement already satisfied: mpmath<1.4,>=1.1.0 in /usr/local/lib/python3.10/dist-packages (from sympy->torch) (1.3.0)\n",
            "Requirement already satisfied: aiosignal>=1.1.2 in /usr/local/lib/python3.10/dist-packages (from aiohttp!=4.0.0a0,!=4.0.0a1->fsspec[http]>=2022.5.0->pytorch-lightning) (1.3.1)\n",
            "Requirement already satisfied: attrs>=17.3.0 in /usr/local/lib/python3.10/dist-packages (from aiohttp!=4.0.0a0,!=4.0.0a1->fsspec[http]>=2022.5.0->pytorch-lightning) (23.2.0)\n",
            "Requirement already satisfied: frozenlist>=1.1.1 in /usr/local/lib/python3.10/dist-packages (from aiohttp!=4.0.0a0,!=4.0.0a1->fsspec[http]>=2022.5.0->pytorch-lightning) (1.4.1)\n",
            "Requirement already satisfied: multidict<7.0,>=4.5 in /usr/local/lib/python3.10/dist-packages (from aiohttp!=4.0.0a0,!=4.0.0a1->fsspec[http]>=2022.5.0->pytorch-lightning) (6.0.5)\n",
            "Requirement already satisfied: yarl<2.0,>=1.0 in /usr/local/lib/python3.10/dist-packages (from aiohttp!=4.0.0a0,!=4.0.0a1->fsspec[http]>=2022.5.0->pytorch-lightning) (1.9.4)\n",
            "Requirement already satisfied: async-timeout<5.0,>=4.0 in /usr/local/lib/python3.10/dist-packages (from aiohttp!=4.0.0a0,!=4.0.0a1->fsspec[http]>=2022.5.0->pytorch-lightning) (4.0.3)\n",
            "Downloading pytorch_lightning-2.3.3-py3-none-any.whl (812 kB)\n",
            "\u001b[2K   \u001b[90m━━━━━━━━━━━━━━━━━━━━━━━━━━━━━━━━━━━━━━━━\u001b[0m \u001b[32m812.3/812.3 kB\u001b[0m \u001b[31m49.2 MB/s\u001b[0m eta \u001b[36m0:00:00\u001b[0m\n",
            "\u001b[?25hDownloading lightning_utilities-0.11.6-py3-none-any.whl (26 kB)\n",
            "Downloading torchmetrics-1.4.0.post0-py3-none-any.whl (868 kB)\n",
            "\u001b[2K   \u001b[90m━━━━━━━━━━━━━━━━━━━━━━━━━━━━━━━━━━━━━━━━\u001b[0m \u001b[32m868.8/868.8 kB\u001b[0m \u001b[31m60.6 MB/s\u001b[0m eta \u001b[36m0:00:00\u001b[0m\n",
            "\u001b[?25hInstalling collected packages: lightning-utilities, torchmetrics, pytorch-lightning\n",
            "Successfully installed lightning-utilities-0.11.6 pytorch-lightning-2.3.3 torchmetrics-1.4.0.post0\n"
          ]
        }
      ]
    },
    {
      "cell_type": "code",
      "source": [
        "!apt-get update\n",
        "!apt-get install -y build-essential libssl-dev libffi-dev python3-dev\n",
        "!apt-get install -y libsndfile1\n"
      ],
      "metadata": {
        "colab": {
          "base_uri": "https://localhost:8080/"
        },
        "id": "usjp0uRb1N07",
        "outputId": "43685e44-0877-4706-c2b6-00b92561a76b"
      },
      "execution_count": 16,
      "outputs": [
        {
          "output_type": "stream",
          "name": "stdout",
          "text": [
            "\r0% [Working]\r            \rGet:1 https://cloud.r-project.org/bin/linux/ubuntu jammy-cran40/ InRelease [3,626 B]\n",
            "Get:2 https://developer.download.nvidia.com/compute/cuda/repos/ubuntu2204/x86_64  InRelease [1,581 B]\n",
            "Get:3 https://developer.download.nvidia.com/compute/cuda/repos/ubuntu2204/x86_64  Packages [861 kB]\n",
            "Get:4 http://security.ubuntu.com/ubuntu jammy-security InRelease [129 kB]\n",
            "Hit:5 http://archive.ubuntu.com/ubuntu jammy InRelease\n",
            "Get:6 http://archive.ubuntu.com/ubuntu jammy-updates InRelease [128 kB]\n",
            "Hit:7 https://ppa.launchpadcontent.net/deadsnakes/ppa/ubuntu jammy InRelease\n",
            "Ign:8 https://r2u.stat.illinois.edu/ubuntu jammy InRelease\n",
            "Hit:9 https://ppa.launchpadcontent.net/graphics-drivers/ppa/ubuntu jammy InRelease\n",
            "Get:10 http://security.ubuntu.com/ubuntu jammy-security/main amd64 Packages [2,115 kB]\n",
            "Get:11 https://r2u.stat.illinois.edu/ubuntu jammy Release [5,713 B]\n",
            "Get:12 http://archive.ubuntu.com/ubuntu jammy-backports InRelease [127 kB]\n",
            "Hit:13 https://ppa.launchpadcontent.net/ubuntugis/ppa/ubuntu jammy InRelease\n",
            "Get:14 https://r2u.stat.illinois.edu/ubuntu jammy Release.gpg [793 B]\n",
            "Get:15 http://archive.ubuntu.com/ubuntu jammy-updates/universe amd64 Packages [1,421 kB]\n",
            "Get:16 https://r2u.stat.illinois.edu/ubuntu jammy/main amd64 Packages [2,552 kB]\n",
            "Get:17 http://security.ubuntu.com/ubuntu jammy-security/universe amd64 Packages [1,130 kB]\n",
            "Get:18 http://security.ubuntu.com/ubuntu jammy-security/restricted amd64 Packages [2,785 kB]\n",
            "Get:19 http://archive.ubuntu.com/ubuntu jammy-updates/main amd64 Packages [2,393 kB]\n",
            "Get:20 https://r2u.stat.illinois.edu/ubuntu jammy/main all Packages [8,217 kB]\n",
            "Fetched 21.9 MB in 13s (1,656 kB/s)\n",
            "Reading package lists... Done\n",
            "W: Skipping acquire of configured file 'main/source/Sources' as repository 'https://r2u.stat.illinois.edu/ubuntu jammy InRelease' does not seem to provide it (sources.list entry misspelt?)\n",
            "Reading package lists... Done\n",
            "Building dependency tree... Done\n",
            "Reading state information... Done\n",
            "build-essential is already the newest version (12.9ubuntu3).\n",
            "python3-dev is already the newest version (3.10.6-1~22.04).\n",
            "python3-dev set to manually installed.\n",
            "The following additional packages will be installed:\n",
            "  libssl3\n",
            "Suggested packages:\n",
            "  libssl-doc\n",
            "The following NEW packages will be installed:\n",
            "  libffi-dev\n",
            "The following packages will be upgraded:\n",
            "  libssl-dev libssl3\n",
            "2 upgraded, 1 newly installed, 0 to remove and 60 not upgraded.\n",
            "Need to get 4,344 kB of archives.\n",
            "After this operation, 337 kB of additional disk space will be used.\n",
            "Get:1 http://archive.ubuntu.com/ubuntu jammy-updates/main amd64 libssl-dev amd64 3.0.2-0ubuntu1.17 [2,375 kB]\n",
            "Get:2 http://archive.ubuntu.com/ubuntu jammy-updates/main amd64 libssl3 amd64 3.0.2-0ubuntu1.17 [1,905 kB]\n",
            "Get:3 http://archive.ubuntu.com/ubuntu jammy/main amd64 libffi-dev amd64 3.4.2-4 [63.7 kB]\n",
            "Fetched 4,344 kB in 2s (1,746 kB/s)\n",
            "Preconfiguring packages ...\n",
            "(Reading database ... 123588 files and directories currently installed.)\n",
            "Preparing to unpack .../libssl-dev_3.0.2-0ubuntu1.17_amd64.deb ...\n",
            "Unpacking libssl-dev:amd64 (3.0.2-0ubuntu1.17) over (3.0.2-0ubuntu1.16) ...\n",
            "Preparing to unpack .../libssl3_3.0.2-0ubuntu1.17_amd64.deb ...\n",
            "Unpacking libssl3:amd64 (3.0.2-0ubuntu1.17) over (3.0.2-0ubuntu1.16) ...\n",
            "Setting up libssl3:amd64 (3.0.2-0ubuntu1.17) ...\n",
            "Selecting previously unselected package libffi-dev:amd64.\n",
            "(Reading database ... 123588 files and directories currently installed.)\n",
            "Preparing to unpack .../libffi-dev_3.4.2-4_amd64.deb ...\n",
            "Unpacking libffi-dev:amd64 (3.4.2-4) ...\n",
            "Setting up libffi-dev:amd64 (3.4.2-4) ...\n",
            "Setting up libssl-dev:amd64 (3.0.2-0ubuntu1.17) ...\n",
            "Processing triggers for man-db (2.10.2-1) ...\n",
            "Processing triggers for libc-bin (2.35-0ubuntu3.4) ...\n",
            "/sbin/ldconfig.real: /usr/local/lib/libtbbbind_2_0.so.3 is not a symbolic link\n",
            "\n",
            "/sbin/ldconfig.real: /usr/local/lib/libtbbbind.so.3 is not a symbolic link\n",
            "\n",
            "/sbin/ldconfig.real: /usr/local/lib/libur_loader.so.0 is not a symbolic link\n",
            "\n",
            "/sbin/ldconfig.real: /usr/local/lib/libtbbbind_2_5.so.3 is not a symbolic link\n",
            "\n",
            "/sbin/ldconfig.real: /usr/local/lib/libur_adapter_opencl.so.0 is not a symbolic link\n",
            "\n",
            "/sbin/ldconfig.real: /usr/local/lib/libtbbmalloc_proxy.so.2 is not a symbolic link\n",
            "\n",
            "/sbin/ldconfig.real: /usr/local/lib/libtbb.so.12 is not a symbolic link\n",
            "\n",
            "/sbin/ldconfig.real: /usr/local/lib/libur_adapter_level_zero.so.0 is not a symbolic link\n",
            "\n",
            "/sbin/ldconfig.real: /usr/local/lib/libtbbmalloc.so.2 is not a symbolic link\n",
            "\n",
            "Reading package lists... Done\n",
            "Building dependency tree... Done\n",
            "Reading state information... Done\n",
            "libsndfile1 is already the newest version (1.0.31-2ubuntu0.1).\n",
            "0 upgraded, 0 newly installed, 0 to remove and 60 not upgraded.\n"
          ]
        }
      ]
    },
    {
      "cell_type": "code",
      "source": [
        "!pip install cython\n",
        "!pip install numpy\n",
        "!pip install sacrebleu==1.5.1\n",
        "!pip install tensorboardX\n"
      ],
      "metadata": {
        "colab": {
          "base_uri": "https://localhost:8080/"
        },
        "id": "iERismqq1elO",
        "outputId": "8f5bb007-3166-404b-fe48-9c5672cde690"
      },
      "execution_count": 17,
      "outputs": [
        {
          "output_type": "stream",
          "name": "stdout",
          "text": [
            "Requirement already satisfied: cython in /usr/local/lib/python3.10/dist-packages (3.0.10)\n",
            "Requirement already satisfied: numpy in /usr/local/lib/python3.10/dist-packages (1.26.4)\n",
            "Collecting sacrebleu==1.5.1\n",
            "  Downloading sacrebleu-1.5.1-py3-none-any.whl.metadata (1.3 kB)\n",
            "Collecting portalocker==2.0.0 (from sacrebleu==1.5.1)\n",
            "  Downloading portalocker-2.0.0-py2.py3-none-any.whl.metadata (5.2 kB)\n",
            "Downloading sacrebleu-1.5.1-py3-none-any.whl (54 kB)\n",
            "\u001b[2K   \u001b[90m━━━━━━━━━━━━━━━━━━━━━━━━━━━━━━━━━━━━━━━━\u001b[0m \u001b[32m54.5/54.5 kB\u001b[0m \u001b[31m5.8 MB/s\u001b[0m eta \u001b[36m0:00:00\u001b[0m\n",
            "\u001b[?25hDownloading portalocker-2.0.0-py2.py3-none-any.whl (11 kB)\n",
            "Installing collected packages: portalocker, sacrebleu\n",
            "Successfully installed portalocker-2.0.0 sacrebleu-1.5.1\n",
            "Collecting tensorboardX\n",
            "  Downloading tensorboardX-2.6.2.2-py2.py3-none-any.whl.metadata (5.8 kB)\n",
            "Requirement already satisfied: numpy in /usr/local/lib/python3.10/dist-packages (from tensorboardX) (1.26.4)\n",
            "Requirement already satisfied: packaging in /usr/local/lib/python3.10/dist-packages (from tensorboardX) (24.1)\n",
            "Requirement already satisfied: protobuf>=3.20 in /usr/local/lib/python3.10/dist-packages (from tensorboardX) (3.20.3)\n",
            "Downloading tensorboardX-2.6.2.2-py2.py3-none-any.whl (101 kB)\n",
            "\u001b[2K   \u001b[90m━━━━━━━━━━━━━━━━━━━━━━━━━━━━━━━━━━━━━━━━\u001b[0m \u001b[32m101.7/101.7 kB\u001b[0m \u001b[31m11.2 MB/s\u001b[0m eta \u001b[36m0:00:00\u001b[0m\n",
            "\u001b[?25hInstalling collected packages: tensorboardX\n",
            "Successfully installed tensorboardX-2.6.2.2\n"
          ]
        }
      ]
    },
    {
      "cell_type": "code",
      "source": [
        "!pip install pip==23.0"
      ],
      "metadata": {
        "colab": {
          "base_uri": "https://localhost:8080/"
        },
        "id": "YrLKKz3q1zkM",
        "outputId": "e449550b-058c-4f3f-9a9c-816365735a39"
      },
      "execution_count": 19,
      "outputs": [
        {
          "output_type": "stream",
          "name": "stdout",
          "text": [
            "Collecting pip==23.0\n",
            "  Downloading pip-23.0-py3-none-any.whl.metadata (4.1 kB)\n",
            "Downloading pip-23.0-py3-none-any.whl (2.1 MB)\n",
            "\u001b[?25l   \u001b[90m━━━━━━━━━━━━━━━━━━━━━━━━━━━━━━━━━━━━━━━━\u001b[0m \u001b[32m0.0/2.1 MB\u001b[0m \u001b[31m?\u001b[0m eta \u001b[36m-:--:--\u001b[0m\r\u001b[2K   \u001b[91m━━━━━━━━━━━━━━━━━━━━━━━━━━━━━━━━━━━━━━━\u001b[0m\u001b[91m╸\u001b[0m \u001b[32m2.0/2.1 MB\u001b[0m \u001b[31m97.3 MB/s\u001b[0m eta \u001b[36m0:00:01\u001b[0m\r\u001b[2K   \u001b[90m━━━━━━━━━━━━━━━━━━━━━━━━━━━━━━━━━━━━━━━━\u001b[0m \u001b[32m2.1/2.1 MB\u001b[0m \u001b[31m56.6 MB/s\u001b[0m eta \u001b[36m0:00:00\u001b[0m\n",
            "\u001b[?25hInstalling collected packages: pip\n",
            "  Attempting uninstall: pip\n",
            "    Found existing installation: pip 24.1.2\n",
            "    Uninstalling pip-24.1.2:\n",
            "      Successfully uninstalled pip-24.1.2\n",
            "Successfully installed pip-23.0\n"
          ]
        }
      ]
    },
    {
      "cell_type": "code",
      "source": [
        "!pip install fairseq\n"
      ],
      "metadata": {
        "colab": {
          "base_uri": "https://localhost:8080/"
        },
        "id": "F0sfwOpD0nTv",
        "outputId": "134c0cf6-3675-4743-9c5c-4be873f56cb3"
      },
      "execution_count": 20,
      "outputs": [
        {
          "output_type": "stream",
          "name": "stdout",
          "text": [
            "Collecting fairseq\n",
            "  Downloading fairseq-0.12.2.tar.gz (9.6 MB)\n",
            "\u001b[?25l     \u001b[90m━━━━━━━━━━━━━━━━━━━━━━━━━━━━━━━━━━━━━━━━\u001b[0m \u001b[32m0.0/9.6 MB\u001b[0m \u001b[31m?\u001b[0m eta \u001b[36m-:--:--\u001b[0m\r\u001b[2K     \u001b[91m━━━\u001b[0m\u001b[91m╸\u001b[0m\u001b[90m━━━━━━━━━━━━━━━━━━━━━━━━━━━━━━━━━━━━\u001b[0m \u001b[32m0.9/9.6 MB\u001b[0m \u001b[31m28.5 MB/s\u001b[0m eta \u001b[36m0:00:01\u001b[0m\r\u001b[2K     \u001b[91m━━━━━━━━━━━━━━━━━━━━━━━━━━━━━━\u001b[0m\u001b[90m╺\u001b[0m\u001b[90m━━━━━━━━━\u001b[0m \u001b[32m7.2/9.6 MB\u001b[0m \u001b[31m107.4 MB/s\u001b[0m eta \u001b[36m0:00:01\u001b[0m\r\u001b[2K     \u001b[91m━━━━━━━━━━━━━━━━━━━━━━━━━━━━━━━━━━━━━━━\u001b[0m\u001b[91m╸\u001b[0m \u001b[32m9.6/9.6 MB\u001b[0m \u001b[31m118.7 MB/s\u001b[0m eta \u001b[36m0:00:01\u001b[0m\r\u001b[2K     \u001b[90m━━━━━━━━━━━━━━━━━━━━━━━━━━━━━━━━━━━━━━━━\u001b[0m \u001b[32m9.6/9.6 MB\u001b[0m \u001b[31m75.6 MB/s\u001b[0m eta \u001b[36m0:00:00\u001b[0m\n",
            "\u001b[?25h  Installing build dependencies ... \u001b[?25l\u001b[?25hdone\n",
            "  Getting requirements to build wheel ... \u001b[?25l\u001b[?25hdone\n",
            "  Installing backend dependencies ... \u001b[?25l\u001b[?25hdone\n",
            "  Preparing metadata (pyproject.toml) ... \u001b[?25l\u001b[?25hdone\n",
            "Requirement already satisfied: numpy in /usr/local/lib/python3.10/dist-packages (from fairseq) (1.26.4)\n",
            "Collecting hydra-core<1.1,>=1.0.7\n",
            "  Downloading hydra_core-1.0.7-py3-none-any.whl (123 kB)\n",
            "\u001b[2K     \u001b[90m━━━━━━━━━━━━━━━━━━━━━━━━━━━━━━━━━━━━━━━━\u001b[0m \u001b[32m123.8/123.8 kB\u001b[0m \u001b[31m22.0 MB/s\u001b[0m eta \u001b[36m0:00:00\u001b[0m\n",
            "\u001b[?25hRequirement already satisfied: tqdm in /usr/local/lib/python3.10/dist-packages (from fairseq) (4.66.4)\n",
            "Requirement already satisfied: torch in /usr/local/lib/python3.10/dist-packages (from fairseq) (2.3.1+cu121)\n",
            "Requirement already satisfied: torchaudio>=0.8.0 in /usr/local/lib/python3.10/dist-packages (from fairseq) (2.3.1+cu121)\n",
            "Requirement already satisfied: sacrebleu>=1.4.12 in /usr/local/lib/python3.10/dist-packages (from fairseq) (1.5.1)\n",
            "Requirement already satisfied: regex in /usr/local/lib/python3.10/dist-packages (from fairseq) (2024.5.15)\n",
            "Collecting bitarray\n",
            "  Downloading bitarray-2.9.2-cp310-cp310-manylinux_2_17_x86_64.manylinux2014_x86_64.whl (288 kB)\n",
            "\u001b[2K     \u001b[90m━━━━━━━━━━━━━━━━━━━━━━━━━━━━━━━━━━━━━━━━\u001b[0m \u001b[32m288.3/288.3 kB\u001b[0m \u001b[31m42.0 MB/s\u001b[0m eta \u001b[36m0:00:00\u001b[0m\n",
            "\u001b[?25hCollecting omegaconf<2.1\n",
            "  Downloading omegaconf-2.0.6-py3-none-any.whl (36 kB)\n",
            "Requirement already satisfied: cffi in /usr/local/lib/python3.10/dist-packages (from fairseq) (1.16.0)\n",
            "Requirement already satisfied: cython in /usr/local/lib/python3.10/dist-packages (from fairseq) (3.0.10)\n",
            "Collecting antlr4-python3-runtime==4.8\n",
            "  Downloading antlr4-python3-runtime-4.8.tar.gz (112 kB)\n",
            "\u001b[2K     \u001b[90m━━━━━━━━━━━━━━━━━━━━━━━━━━━━━━━━━━━━━━━━\u001b[0m \u001b[32m112.4/112.4 kB\u001b[0m \u001b[31m21.3 MB/s\u001b[0m eta \u001b[36m0:00:00\u001b[0m\n",
            "\u001b[?25h  Preparing metadata (setup.py) ... \u001b[?25l\u001b[?25hdone\n",
            "Requirement already satisfied: typing-extensions in /usr/local/lib/python3.10/dist-packages (from omegaconf<2.1->fairseq) (4.12.2)\n",
            "Requirement already satisfied: PyYAML>=5.1.* in /usr/local/lib/python3.10/dist-packages (from omegaconf<2.1->fairseq) (6.0.1)\n",
            "Requirement already satisfied: portalocker==2.0.0 in /usr/local/lib/python3.10/dist-packages (from sacrebleu>=1.4.12->fairseq) (2.0.0)\n",
            "Requirement already satisfied: networkx in /usr/local/lib/python3.10/dist-packages (from torch->fairseq) (3.3)\n",
            "Requirement already satisfied: jinja2 in /usr/local/lib/python3.10/dist-packages (from torch->fairseq) (3.1.4)\n",
            "Requirement already satisfied: fsspec in /usr/local/lib/python3.10/dist-packages (from torch->fairseq) (2024.6.1)\n",
            "Requirement already satisfied: nvidia-cusparse-cu12==12.1.0.106 in /usr/local/lib/python3.10/dist-packages (from torch->fairseq) (12.1.0.106)\n",
            "Requirement already satisfied: nvidia-cufft-cu12==11.0.2.54 in /usr/local/lib/python3.10/dist-packages (from torch->fairseq) (11.0.2.54)\n",
            "Requirement already satisfied: triton==2.3.1 in /usr/local/lib/python3.10/dist-packages (from torch->fairseq) (2.3.1)\n",
            "Requirement already satisfied: nvidia-cuda-runtime-cu12==12.1.105 in /usr/local/lib/python3.10/dist-packages (from torch->fairseq) (12.1.105)\n",
            "Requirement already satisfied: nvidia-cuda-cupti-cu12==12.1.105 in /usr/local/lib/python3.10/dist-packages (from torch->fairseq) (12.1.105)\n",
            "Requirement already satisfied: nvidia-nccl-cu12==2.20.5 in /usr/local/lib/python3.10/dist-packages (from torch->fairseq) (2.20.5)\n",
            "Requirement already satisfied: nvidia-cublas-cu12==12.1.3.1 in /usr/local/lib/python3.10/dist-packages (from torch->fairseq) (12.1.3.1)\n",
            "Requirement already satisfied: nvidia-cudnn-cu12==8.9.2.26 in /usr/local/lib/python3.10/dist-packages (from torch->fairseq) (8.9.2.26)\n",
            "Requirement already satisfied: sympy in /usr/local/lib/python3.10/dist-packages (from torch->fairseq) (1.13.1)\n",
            "Requirement already satisfied: nvidia-nvtx-cu12==12.1.105 in /usr/local/lib/python3.10/dist-packages (from torch->fairseq) (12.1.105)\n",
            "Requirement already satisfied: nvidia-cuda-nvrtc-cu12==12.1.105 in /usr/local/lib/python3.10/dist-packages (from torch->fairseq) (12.1.105)\n",
            "Requirement already satisfied: nvidia-cusolver-cu12==11.4.5.107 in /usr/local/lib/python3.10/dist-packages (from torch->fairseq) (11.4.5.107)\n",
            "Requirement already satisfied: filelock in /usr/local/lib/python3.10/dist-packages (from torch->fairseq) (3.15.4)\n",
            "Requirement already satisfied: nvidia-curand-cu12==10.3.2.106 in /usr/local/lib/python3.10/dist-packages (from torch->fairseq) (10.3.2.106)\n",
            "Requirement already satisfied: nvidia-nvjitlink-cu12 in /usr/local/lib/python3.10/dist-packages (from nvidia-cusolver-cu12==11.4.5.107->torch->fairseq) (12.5.82)\n",
            "Requirement already satisfied: pycparser in /usr/local/lib/python3.10/dist-packages (from cffi->fairseq) (2.22)\n",
            "Requirement already satisfied: MarkupSafe>=2.0 in /usr/local/lib/python3.10/dist-packages (from jinja2->torch->fairseq) (2.1.5)\n",
            "Requirement already satisfied: mpmath<1.4,>=1.1.0 in /usr/local/lib/python3.10/dist-packages (from sympy->torch->fairseq) (1.3.0)\n",
            "Building wheels for collected packages: fairseq, antlr4-python3-runtime\n",
            "  Building wheel for fairseq (pyproject.toml) ... \u001b[?25l\u001b[?25hdone\n",
            "  Created wheel for fairseq: filename=fairseq-0.12.2-cp310-cp310-linux_x86_64.whl size=11289141 sha256=fa59d0dfe563525772d398fff85419f069030866ae2df6ce2a42bdbb4a617a50\n",
            "  Stored in directory: /root/.cache/pip/wheels/e4/35/55/9c66f65ec7c83fd6fbc2b9502a0ac81b2448a1196159dacc32\n",
            "  Building wheel for antlr4-python3-runtime (setup.py) ... \u001b[?25l\u001b[?25hdone\n",
            "  Created wheel for antlr4-python3-runtime: filename=antlr4_python3_runtime-4.8-py3-none-any.whl size=141211 sha256=c9c0bd1f83113876e676ee62ed4150dfd8a417b5b09560f2d2d4034e2ade14a3\n",
            "  Stored in directory: /root/.cache/pip/wheels/a7/20/bd/e1477d664f22d99989fd28ee1a43d6633dddb5cb9e801350d5\n",
            "Successfully built fairseq antlr4-python3-runtime\n",
            "Installing collected packages: bitarray, antlr4-python3-runtime, omegaconf, hydra-core, fairseq\n",
            "  Attempting uninstall: antlr4-python3-runtime\n",
            "    Found existing installation: antlr4-python3-runtime 4.9.3\n",
            "    Uninstalling antlr4-python3-runtime-4.9.3:\n",
            "      Successfully uninstalled antlr4-python3-runtime-4.9.3\n",
            "  Attempting uninstall: omegaconf\n",
            "    Found existing installation: omegaconf 2.3.0\n",
            "    Uninstalling omegaconf-2.3.0:\n",
            "      Successfully uninstalled omegaconf-2.3.0\n",
            "  Attempting uninstall: hydra-core\n",
            "    Found existing installation: hydra-core 1.3.2\n",
            "    Uninstalling hydra-core-1.3.2:\n",
            "      Successfully uninstalled hydra-core-1.3.2\n",
            "Successfully installed antlr4-python3-runtime-4.8 bitarray-2.9.2 fairseq-0.12.2 hydra-core-1.0.7 omegaconf-2.0.6\n"
          ]
        }
      ]
    },
    {
      "cell_type": "code",
      "source": [
        "!pip install fairseq==0.12.2 hydra-core==1.0.7 omegaconf==2.0.6"
      ],
      "metadata": {
        "colab": {
          "base_uri": "https://localhost:8080/"
        },
        "id": "PzkEIe-D56Y2",
        "outputId": "347c85db-e95e-4ab0-db78-d9acb220f39f"
      },
      "execution_count": 13,
      "outputs": [
        {
          "output_type": "stream",
          "name": "stdout",
          "text": [
            "Requirement already satisfied: fairseq==0.12.2 in /usr/local/lib/python3.10/dist-packages (0.12.2)\n",
            "Requirement already satisfied: hydra-core==1.0.7 in /usr/local/lib/python3.10/dist-packages (1.0.7)\n",
            "Requirement already satisfied: omegaconf==2.0.6 in /usr/local/lib/python3.10/dist-packages (2.0.6)\n",
            "Requirement already satisfied: cython in /usr/local/lib/python3.10/dist-packages (from fairseq==0.12.2) (3.0.10)\n",
            "Requirement already satisfied: cffi in /usr/local/lib/python3.10/dist-packages (from fairseq==0.12.2) (1.16.0)\n",
            "Requirement already satisfied: tqdm in /usr/local/lib/python3.10/dist-packages (from fairseq==0.12.2) (4.66.4)\n",
            "Requirement already satisfied: torchaudio>=0.8.0 in /usr/local/lib/python3.10/dist-packages (from fairseq==0.12.2) (2.3.1+cu121)\n",
            "Requirement already satisfied: bitarray in /usr/local/lib/python3.10/dist-packages (from fairseq==0.12.2) (2.9.2)\n",
            "Requirement already satisfied: numpy in /usr/local/lib/python3.10/dist-packages (from fairseq==0.12.2) (1.26.4)\n",
            "Requirement already satisfied: regex in /usr/local/lib/python3.10/dist-packages (from fairseq==0.12.2) (2024.5.15)\n",
            "Requirement already satisfied: sacrebleu>=1.4.12 in /usr/local/lib/python3.10/dist-packages (from fairseq==0.12.2) (1.5.1)\n",
            "Requirement already satisfied: torch in /usr/local/lib/python3.10/dist-packages (from fairseq==0.12.2) (2.3.1+cu121)\n",
            "Requirement already satisfied: antlr4-python3-runtime==4.8 in /usr/local/lib/python3.10/dist-packages (from hydra-core==1.0.7) (4.8)\n",
            "Requirement already satisfied: PyYAML>=5.1.* in /usr/local/lib/python3.10/dist-packages (from omegaconf==2.0.6) (6.0.1)\n",
            "Requirement already satisfied: typing-extensions in /usr/local/lib/python3.10/dist-packages (from omegaconf==2.0.6) (4.12.2)\n",
            "Requirement already satisfied: portalocker==2.0.0 in /usr/local/lib/python3.10/dist-packages (from sacrebleu>=1.4.12->fairseq==0.12.2) (2.0.0)\n",
            "Requirement already satisfied: nvidia-cusparse-cu12==12.1.0.106 in /usr/local/lib/python3.10/dist-packages (from torch->fairseq==0.12.2) (12.1.0.106)\n",
            "Requirement already satisfied: fsspec in /usr/local/lib/python3.10/dist-packages (from torch->fairseq==0.12.2) (2024.6.1)\n",
            "Requirement already satisfied: nvidia-nvtx-cu12==12.1.105 in /usr/local/lib/python3.10/dist-packages (from torch->fairseq==0.12.2) (12.1.105)\n",
            "Requirement already satisfied: nvidia-cudnn-cu12==8.9.2.26 in /usr/local/lib/python3.10/dist-packages (from torch->fairseq==0.12.2) (8.9.2.26)\n",
            "Requirement already satisfied: nvidia-nccl-cu12==2.20.5 in /usr/local/lib/python3.10/dist-packages (from torch->fairseq==0.12.2) (2.20.5)\n",
            "Requirement already satisfied: triton==2.3.1 in /usr/local/lib/python3.10/dist-packages (from torch->fairseq==0.12.2) (2.3.1)\n",
            "Requirement already satisfied: nvidia-cuda-nvrtc-cu12==12.1.105 in /usr/local/lib/python3.10/dist-packages (from torch->fairseq==0.12.2) (12.1.105)\n",
            "Requirement already satisfied: jinja2 in /usr/local/lib/python3.10/dist-packages (from torch->fairseq==0.12.2) (3.1.4)\n",
            "Requirement already satisfied: nvidia-cublas-cu12==12.1.3.1 in /usr/local/lib/python3.10/dist-packages (from torch->fairseq==0.12.2) (12.1.3.1)\n",
            "Requirement already satisfied: nvidia-cusolver-cu12==11.4.5.107 in /usr/local/lib/python3.10/dist-packages (from torch->fairseq==0.12.2) (11.4.5.107)\n",
            "Requirement already satisfied: networkx in /usr/local/lib/python3.10/dist-packages (from torch->fairseq==0.12.2) (3.3)\n",
            "Requirement already satisfied: nvidia-curand-cu12==10.3.2.106 in /usr/local/lib/python3.10/dist-packages (from torch->fairseq==0.12.2) (10.3.2.106)\n",
            "Requirement already satisfied: nvidia-cuda-cupti-cu12==12.1.105 in /usr/local/lib/python3.10/dist-packages (from torch->fairseq==0.12.2) (12.1.105)\n",
            "Requirement already satisfied: nvidia-cufft-cu12==11.0.2.54 in /usr/local/lib/python3.10/dist-packages (from torch->fairseq==0.12.2) (11.0.2.54)\n",
            "Requirement already satisfied: filelock in /usr/local/lib/python3.10/dist-packages (from torch->fairseq==0.12.2) (3.15.4)\n",
            "Requirement already satisfied: sympy in /usr/local/lib/python3.10/dist-packages (from torch->fairseq==0.12.2) (1.13.1)\n",
            "Requirement already satisfied: nvidia-cuda-runtime-cu12==12.1.105 in /usr/local/lib/python3.10/dist-packages (from torch->fairseq==0.12.2) (12.1.105)\n",
            "Requirement already satisfied: nvidia-nvjitlink-cu12 in /usr/local/lib/python3.10/dist-packages (from nvidia-cusolver-cu12==11.4.5.107->torch->fairseq==0.12.2) (12.5.82)\n",
            "Requirement already satisfied: pycparser in /usr/local/lib/python3.10/dist-packages (from cffi->fairseq==0.12.2) (2.22)\n",
            "Requirement already satisfied: MarkupSafe>=2.0 in /usr/local/lib/python3.10/dist-packages (from jinja2->torch->fairseq==0.12.2) (2.1.5)\n",
            "Requirement already satisfied: mpmath<1.4,>=1.1.0 in /usr/local/lib/python3.10/dist-packages (from sympy->torch->fairseq==0.12.2) (1.3.0)\n"
          ]
        }
      ]
    },
    {
      "cell_type": "code",
      "source": [
        "# eval.py 파일의 내용을 새로 작성 또는 수정합니다.\n",
        "file_content = \"\"\"\n",
        "defaults:\n",
        "  - data: default\n",
        "  - model: default\n",
        "  - optimizer: adamw\n",
        "  - trainer: train\n",
        "  - decode: default\n",
        "  - override hydra/hydra_logging: disabled\n",
        "  - override hydra/job_logging: disabled\n",
        "\n",
        "hydra:\n",
        "  output_subdir: \"outputs/${now:%Y-%m-%d_%H-%M-%S}\"\n",
        "  run:\n",
        "    dir: \"outputs/${now:%Y-%m-%d_%H-%M-%S}\"\n",
        "\n",
        "exp_dir: \"/auto_avsr\"\n",
        "exp_name: \"dacon_hackathon\"\n",
        "slurm_job_id: \"null\"\n",
        "file_path: \"./train_data/Cropped_A_003.mp4\"\n",
        "ckpt_path: \"./check_points\"\n",
        "pretrained_model_path: \"./\"\n",
        "transfer_frontend: false\n",
        "transfer_encoder: false\n",
        "\n",
        "# GPU 설정을 직접 지정\n",
        "gpus: 1\n",
        "\"\"\"\n",
        "\n",
        "# eval.py 파일에 쓰기\n",
        "with open(\"./configs/config.yaml\", \"w\") as file:\n",
        "    file.write(file_content)\n"
      ],
      "metadata": {
        "id": "ICUXsRhV8ji0"
      },
      "execution_count": 18,
      "outputs": []
    },
    {
      "cell_type": "code",
      "source": [
        "!pip install --upgrade fairseq\n"
      ],
      "metadata": {
        "colab": {
          "base_uri": "https://localhost:8080/"
        },
        "id": "KfgyxlWy6qSa",
        "outputId": "b7a71078-263f-4d5c-83f0-6ca83a9ce8c3"
      },
      "execution_count": 10,
      "outputs": [
        {
          "output_type": "stream",
          "name": "stdout",
          "text": [
            "Requirement already satisfied: fairseq in /usr/local/lib/python3.10/dist-packages (0.12.2)\n",
            "Requirement already satisfied: sacrebleu>=1.4.12 in /usr/local/lib/python3.10/dist-packages (from fairseq) (1.5.1)\n",
            "Requirement already satisfied: tqdm in /usr/local/lib/python3.10/dist-packages (from fairseq) (4.66.4)\n",
            "Requirement already satisfied: torchaudio>=0.8.0 in /usr/local/lib/python3.10/dist-packages (from fairseq) (2.3.1+cu121)\n",
            "Collecting omegaconf<2.1\n",
            "  Using cached omegaconf-2.0.6-py3-none-any.whl (36 kB)\n",
            "Requirement already satisfied: cython in /usr/local/lib/python3.10/dist-packages (from fairseq) (3.0.10)\n",
            "Requirement already satisfied: cffi in /usr/local/lib/python3.10/dist-packages (from fairseq) (1.16.0)\n",
            "Requirement already satisfied: numpy in /usr/local/lib/python3.10/dist-packages (from fairseq) (1.26.4)\n",
            "Requirement already satisfied: torch in /usr/local/lib/python3.10/dist-packages (from fairseq) (2.3.1+cu121)\n",
            "Requirement already satisfied: bitarray in /usr/local/lib/python3.10/dist-packages (from fairseq) (2.9.2)\n",
            "Requirement already satisfied: regex in /usr/local/lib/python3.10/dist-packages (from fairseq) (2024.5.15)\n",
            "Collecting hydra-core<1.1,>=1.0.7\n",
            "  Using cached hydra_core-1.0.7-py3-none-any.whl (123 kB)\n",
            "Collecting antlr4-python3-runtime==4.8\n",
            "  Using cached antlr4_python3_runtime-4.8-py3-none-any.whl\n",
            "Requirement already satisfied: PyYAML>=5.1.* in /usr/local/lib/python3.10/dist-packages (from omegaconf<2.1->fairseq) (6.0.1)\n",
            "Requirement already satisfied: typing-extensions in /usr/local/lib/python3.10/dist-packages (from omegaconf<2.1->fairseq) (4.12.2)\n",
            "Requirement already satisfied: portalocker==2.0.0 in /usr/local/lib/python3.10/dist-packages (from sacrebleu>=1.4.12->fairseq) (2.0.0)\n",
            "Requirement already satisfied: nvidia-cuda-cupti-cu12==12.1.105 in /usr/local/lib/python3.10/dist-packages (from torch->fairseq) (12.1.105)\n",
            "Requirement already satisfied: networkx in /usr/local/lib/python3.10/dist-packages (from torch->fairseq) (3.3)\n",
            "Requirement already satisfied: nvidia-cuda-runtime-cu12==12.1.105 in /usr/local/lib/python3.10/dist-packages (from torch->fairseq) (12.1.105)\n",
            "Requirement already satisfied: nvidia-cusolver-cu12==11.4.5.107 in /usr/local/lib/python3.10/dist-packages (from torch->fairseq) (11.4.5.107)\n",
            "Requirement already satisfied: nvidia-cuda-nvrtc-cu12==12.1.105 in /usr/local/lib/python3.10/dist-packages (from torch->fairseq) (12.1.105)\n",
            "Requirement already satisfied: nvidia-curand-cu12==10.3.2.106 in /usr/local/lib/python3.10/dist-packages (from torch->fairseq) (10.3.2.106)\n",
            "Requirement already satisfied: nvidia-nvtx-cu12==12.1.105 in /usr/local/lib/python3.10/dist-packages (from torch->fairseq) (12.1.105)\n",
            "Requirement already satisfied: triton==2.3.1 in /usr/local/lib/python3.10/dist-packages (from torch->fairseq) (2.3.1)\n",
            "Requirement already satisfied: sympy in /usr/local/lib/python3.10/dist-packages (from torch->fairseq) (1.13.1)\n",
            "Requirement already satisfied: fsspec in /usr/local/lib/python3.10/dist-packages (from torch->fairseq) (2024.6.1)\n",
            "Requirement already satisfied: filelock in /usr/local/lib/python3.10/dist-packages (from torch->fairseq) (3.15.4)\n",
            "Requirement already satisfied: jinja2 in /usr/local/lib/python3.10/dist-packages (from torch->fairseq) (3.1.4)\n",
            "Requirement already satisfied: nvidia-cudnn-cu12==8.9.2.26 in /usr/local/lib/python3.10/dist-packages (from torch->fairseq) (8.9.2.26)\n",
            "Requirement already satisfied: nvidia-cufft-cu12==11.0.2.54 in /usr/local/lib/python3.10/dist-packages (from torch->fairseq) (11.0.2.54)\n",
            "Requirement already satisfied: nvidia-nccl-cu12==2.20.5 in /usr/local/lib/python3.10/dist-packages (from torch->fairseq) (2.20.5)\n",
            "Requirement already satisfied: nvidia-cusparse-cu12==12.1.0.106 in /usr/local/lib/python3.10/dist-packages (from torch->fairseq) (12.1.0.106)\n",
            "Requirement already satisfied: nvidia-cublas-cu12==12.1.3.1 in /usr/local/lib/python3.10/dist-packages (from torch->fairseq) (12.1.3.1)\n",
            "Requirement already satisfied: nvidia-nvjitlink-cu12 in /usr/local/lib/python3.10/dist-packages (from nvidia-cusolver-cu12==11.4.5.107->torch->fairseq) (12.5.82)\n",
            "Requirement already satisfied: pycparser in /usr/local/lib/python3.10/dist-packages (from cffi->fairseq) (2.22)\n",
            "Requirement already satisfied: MarkupSafe>=2.0 in /usr/local/lib/python3.10/dist-packages (from jinja2->torch->fairseq) (2.1.5)\n",
            "Requirement already satisfied: mpmath<1.4,>=1.1.0 in /usr/local/lib/python3.10/dist-packages (from sympy->torch->fairseq) (1.3.0)\n",
            "Installing collected packages: antlr4-python3-runtime, omegaconf, hydra-core\n",
            "  Attempting uninstall: antlr4-python3-runtime\n",
            "    Found existing installation: antlr4-python3-runtime 4.9.3\n",
            "    Uninstalling antlr4-python3-runtime-4.9.3:\n",
            "      Successfully uninstalled antlr4-python3-runtime-4.9.3\n",
            "  Attempting uninstall: omegaconf\n",
            "    Found existing installation: omegaconf 2.3.0\n",
            "    Uninstalling omegaconf-2.3.0:\n",
            "      Successfully uninstalled omegaconf-2.3.0\n",
            "  Attempting uninstall: hydra-core\n",
            "    Found existing installation: hydra-core 1.3.2\n",
            "    Uninstalling hydra-core-1.3.2:\n",
            "      Successfully uninstalled hydra-core-1.3.2\n",
            "Successfully installed antlr4-python3-runtime-4.8 hydra-core-1.0.7 omegaconf-2.0.6\n"
          ]
        }
      ]
    },
    {
      "cell_type": "code",
      "source": [
        "!apt-get update\n",
        "!apt-get install -y build-essential libssl-dev libffi-dev python3-dev\n"
      ],
      "metadata": {
        "colab": {
          "base_uri": "https://localhost:8080/"
        },
        "id": "8fxT4Pd6EjyH",
        "outputId": "faf4ee98-3811-4227-a7bf-827c35c54abf"
      },
      "execution_count": 26,
      "outputs": [
        {
          "output_type": "stream",
          "name": "stdout",
          "text": [
            "\r0% [Working]\r            \rHit:1 https://cloud.r-project.org/bin/linux/ubuntu jammy-cran40/ InRelease\n",
            "Hit:2 https://developer.download.nvidia.com/compute/cuda/repos/ubuntu2204/x86_64  InRelease\n",
            "Hit:3 http://archive.ubuntu.com/ubuntu jammy InRelease\n",
            "Get:4 http://security.ubuntu.com/ubuntu jammy-security InRelease [129 kB]\n",
            "Get:5 http://archive.ubuntu.com/ubuntu jammy-updates InRelease [128 kB]\n",
            "Hit:6 https://ppa.launchpadcontent.net/deadsnakes/ppa/ubuntu jammy InRelease\n",
            "Ign:7 https://r2u.stat.illinois.edu/ubuntu jammy InRelease\n",
            "Hit:8 https://ppa.launchpadcontent.net/graphics-drivers/ppa/ubuntu jammy InRelease\n",
            "Hit:9 https://r2u.stat.illinois.edu/ubuntu jammy Release\n",
            "Hit:10 http://archive.ubuntu.com/ubuntu jammy-backports InRelease\n",
            "Hit:11 https://ppa.launchpadcontent.net/ubuntugis/ppa/ubuntu jammy InRelease\n",
            "Fetched 257 kB in 2s (153 kB/s)\n",
            "Reading package lists... Done\n",
            "W: Skipping acquire of configured file 'main/source/Sources' as repository 'https://r2u.stat.illinois.edu/ubuntu jammy InRelease' does not seem to provide it (sources.list entry misspelt?)\n",
            "Reading package lists... Done\n",
            "Building dependency tree... Done\n",
            "Reading state information... Done\n",
            "build-essential is already the newest version (12.9ubuntu3).\n",
            "libffi-dev is already the newest version (3.4.2-4).\n",
            "libssl-dev is already the newest version (3.0.2-0ubuntu1.17).\n",
            "python3-dev is already the newest version (3.10.6-1~22.04).\n",
            "0 upgraded, 0 newly installed, 0 to remove and 60 not upgraded.\n"
          ]
        }
      ]
    },
    {
      "cell_type": "code",
      "source": [
        "# 필요한 패키지 설치\n",
        "!apt-get update\n",
        "!apt-get install -y build-essential libssl-dev libffi-dev python3-dev\n",
        "!pip install cython numpy sacrebleu tensorboardX\n",
        "\n",
        "# fairseq 소스 코드 클론 및 설치\n",
        "!git clone https://github.com/pytorch/fairseq.git\n",
        "%cd fairseq\n",
        "!pip install --editable ./\n",
        "\n"
      ],
      "metadata": {
        "colab": {
          "base_uri": "https://localhost:8080/"
        },
        "id": "Q6P88GdVE74f",
        "outputId": "09652675-a5d0-4df6-ebf9-387ac9ffe8b1"
      },
      "execution_count": 30,
      "outputs": [
        {
          "output_type": "stream",
          "name": "stdout",
          "text": [
            "\r0% [Working]\r            \rHit:1 https://cloud.r-project.org/bin/linux/ubuntu jammy-cran40/ InRelease\n",
            "Hit:2 https://developer.download.nvidia.com/compute/cuda/repos/ubuntu2204/x86_64  InRelease\n",
            "Hit:3 http://security.ubuntu.com/ubuntu jammy-security InRelease\n",
            "Hit:4 http://archive.ubuntu.com/ubuntu jammy InRelease\n",
            "Hit:5 http://archive.ubuntu.com/ubuntu jammy-updates InRelease\n",
            "Hit:6 http://archive.ubuntu.com/ubuntu jammy-backports InRelease\n",
            "Hit:7 https://ppa.launchpadcontent.net/deadsnakes/ppa/ubuntu jammy InRelease\n",
            "Ign:8 https://r2u.stat.illinois.edu/ubuntu jammy InRelease\n",
            "Hit:9 https://ppa.launchpadcontent.net/graphics-drivers/ppa/ubuntu jammy InRelease\n",
            "Hit:10 https://r2u.stat.illinois.edu/ubuntu jammy Release\n",
            "Hit:11 https://ppa.launchpadcontent.net/ubuntugis/ppa/ubuntu jammy InRelease\n",
            "Reading package lists... Done\n",
            "W: Skipping acquire of configured file 'main/source/Sources' as repository 'https://r2u.stat.illinois.edu/ubuntu jammy InRelease' does not seem to provide it (sources.list entry misspelt?)\n",
            "Reading package lists... Done\n",
            "Building dependency tree... Done\n",
            "Reading state information... Done\n",
            "build-essential is already the newest version (12.9ubuntu3).\n",
            "libffi-dev is already the newest version (3.4.2-4).\n",
            "libssl-dev is already the newest version (3.0.2-0ubuntu1.17).\n",
            "python3-dev is already the newest version (3.10.6-1~22.04).\n",
            "0 upgraded, 0 newly installed, 0 to remove and 60 not upgraded.\n",
            "Requirement already satisfied: cython in /usr/local/lib/python3.10/dist-packages (3.0.10)\n",
            "Requirement already satisfied: numpy in /usr/local/lib/python3.10/dist-packages (1.26.4)\n",
            "Requirement already satisfied: sacrebleu in /usr/local/lib/python3.10/dist-packages (1.5.1)\n",
            "Requirement already satisfied: tensorboardX in /usr/local/lib/python3.10/dist-packages (2.6.2.2)\n",
            "Requirement already satisfied: portalocker==2.0.0 in /usr/local/lib/python3.10/dist-packages (from sacrebleu) (2.0.0)\n",
            "Requirement already satisfied: packaging in /usr/local/lib/python3.10/dist-packages (from tensorboardX) (24.1)\n",
            "Requirement already satisfied: protobuf>=3.20 in /usr/local/lib/python3.10/dist-packages (from tensorboardX) (3.20.3)\n",
            "Cloning into 'fairseq'...\n",
            "remote: Enumerating objects: 35209, done.\u001b[K\n",
            "remote: Counting objects: 100% (126/126), done.\u001b[K\n",
            "remote: Compressing objects: 100% (76/76), done.\u001b[K\n",
            "remote: Total 35209 (delta 68), reused 84 (delta 49), pack-reused 35083\u001b[K\n",
            "Receiving objects: 100% (35209/35209), 25.23 MiB | 12.66 MiB/s, done.\n",
            "Resolving deltas: 100% (25558/25558), done.\n",
            "/content/auto_avsr/fairseq\n",
            "Obtaining file:///content/auto_avsr/fairseq\n",
            "  Installing build dependencies ... \u001b[?25l\u001b[?25hdone\n",
            "  Checking if build backend supports build_editable ... \u001b[?25l\u001b[?25hdone\n",
            "  Getting requirements to build editable ... \u001b[?25l\u001b[?25hdone\n",
            "  Preparing editable metadata (pyproject.toml) ... \u001b[?25l\u001b[?25hdone\n",
            "Requirement already satisfied: omegaconf<2.1 in /usr/local/lib/python3.10/dist-packages (from fairseq==0.12.2) (2.0.6)\n",
            "Requirement already satisfied: numpy>=1.21.3 in /usr/local/lib/python3.10/dist-packages (from fairseq==0.12.2) (1.26.4)\n",
            "Requirement already satisfied: packaging in /usr/local/lib/python3.10/dist-packages (from fairseq==0.12.2) (24.1)\n",
            "Requirement already satisfied: hydra-core<1.1,>=1.0.7 in /usr/local/lib/python3.10/dist-packages (from fairseq==0.12.2) (1.0.7)\n",
            "Requirement already satisfied: regex in /usr/local/lib/python3.10/dist-packages (from fairseq==0.12.2) (2024.5.15)\n",
            "Requirement already satisfied: cffi in /usr/local/lib/python3.10/dist-packages (from fairseq==0.12.2) (1.16.0)\n",
            "Requirement already satisfied: sacrebleu>=1.4.12 in /usr/local/lib/python3.10/dist-packages (from fairseq==0.12.2) (1.5.1)\n",
            "Requirement already satisfied: cython in /usr/local/lib/python3.10/dist-packages (from fairseq==0.12.2) (3.0.10)\n",
            "Requirement already satisfied: tqdm in /usr/local/lib/python3.10/dist-packages (from fairseq==0.12.2) (4.66.4)\n",
            "Requirement already satisfied: torchaudio>=0.8.0 in /usr/local/lib/python3.10/dist-packages (from fairseq==0.12.2) (2.3.1+cu121)\n",
            "Requirement already satisfied: bitarray in /usr/local/lib/python3.10/dist-packages (from fairseq==0.12.2) (2.9.2)\n",
            "Requirement already satisfied: scikit-learn in /usr/local/lib/python3.10/dist-packages (from fairseq==0.12.2) (1.3.2)\n",
            "Requirement already satisfied: torch>=1.13 in /usr/local/lib/python3.10/dist-packages (from fairseq==0.12.2) (2.3.1+cu121)\n",
            "Requirement already satisfied: antlr4-python3-runtime==4.8 in /usr/local/lib/python3.10/dist-packages (from hydra-core<1.1,>=1.0.7->fairseq==0.12.2) (4.8)\n",
            "Requirement already satisfied: PyYAML>=5.1.* in /usr/local/lib/python3.10/dist-packages (from omegaconf<2.1->fairseq==0.12.2) (6.0.1)\n",
            "Requirement already satisfied: typing-extensions in /usr/local/lib/python3.10/dist-packages (from omegaconf<2.1->fairseq==0.12.2) (4.12.2)\n",
            "Requirement already satisfied: portalocker==2.0.0 in /usr/local/lib/python3.10/dist-packages (from sacrebleu>=1.4.12->fairseq==0.12.2) (2.0.0)\n",
            "Requirement already satisfied: nvidia-cusolver-cu12==11.4.5.107 in /usr/local/lib/python3.10/dist-packages (from torch>=1.13->fairseq==0.12.2) (11.4.5.107)\n",
            "Requirement already satisfied: nvidia-cuda-cupti-cu12==12.1.105 in /usr/local/lib/python3.10/dist-packages (from torch>=1.13->fairseq==0.12.2) (12.1.105)\n",
            "Requirement already satisfied: nvidia-curand-cu12==10.3.2.106 in /usr/local/lib/python3.10/dist-packages (from torch>=1.13->fairseq==0.12.2) (10.3.2.106)\n",
            "Requirement already satisfied: nvidia-cusparse-cu12==12.1.0.106 in /usr/local/lib/python3.10/dist-packages (from torch>=1.13->fairseq==0.12.2) (12.1.0.106)\n",
            "Requirement already satisfied: nvidia-cublas-cu12==12.1.3.1 in /usr/local/lib/python3.10/dist-packages (from torch>=1.13->fairseq==0.12.2) (12.1.3.1)\n",
            "Requirement already satisfied: nvidia-cuda-nvrtc-cu12==12.1.105 in /usr/local/lib/python3.10/dist-packages (from torch>=1.13->fairseq==0.12.2) (12.1.105)\n",
            "Requirement already satisfied: triton==2.3.1 in /usr/local/lib/python3.10/dist-packages (from torch>=1.13->fairseq==0.12.2) (2.3.1)\n",
            "Requirement already satisfied: fsspec in /usr/local/lib/python3.10/dist-packages (from torch>=1.13->fairseq==0.12.2) (2024.6.1)\n",
            "Requirement already satisfied: networkx in /usr/local/lib/python3.10/dist-packages (from torch>=1.13->fairseq==0.12.2) (3.3)\n",
            "Requirement already satisfied: sympy in /usr/local/lib/python3.10/dist-packages (from torch>=1.13->fairseq==0.12.2) (1.13.1)\n",
            "Requirement already satisfied: nvidia-cufft-cu12==11.0.2.54 in /usr/local/lib/python3.10/dist-packages (from torch>=1.13->fairseq==0.12.2) (11.0.2.54)\n",
            "Requirement already satisfied: nvidia-nvtx-cu12==12.1.105 in /usr/local/lib/python3.10/dist-packages (from torch>=1.13->fairseq==0.12.2) (12.1.105)\n",
            "Requirement already satisfied: nvidia-cuda-runtime-cu12==12.1.105 in /usr/local/lib/python3.10/dist-packages (from torch>=1.13->fairseq==0.12.2) (12.1.105)\n",
            "Requirement already satisfied: jinja2 in /usr/local/lib/python3.10/dist-packages (from torch>=1.13->fairseq==0.12.2) (3.1.4)\n",
            "Requirement already satisfied: nvidia-cudnn-cu12==8.9.2.26 in /usr/local/lib/python3.10/dist-packages (from torch>=1.13->fairseq==0.12.2) (8.9.2.26)\n",
            "Requirement already satisfied: nvidia-nccl-cu12==2.20.5 in /usr/local/lib/python3.10/dist-packages (from torch>=1.13->fairseq==0.12.2) (2.20.5)\n",
            "Requirement already satisfied: filelock in /usr/local/lib/python3.10/dist-packages (from torch>=1.13->fairseq==0.12.2) (3.15.4)\n",
            "Requirement already satisfied: nvidia-nvjitlink-cu12 in /usr/local/lib/python3.10/dist-packages (from nvidia-cusolver-cu12==11.4.5.107->torch>=1.13->fairseq==0.12.2) (12.5.82)\n",
            "Requirement already satisfied: pycparser in /usr/local/lib/python3.10/dist-packages (from cffi->fairseq==0.12.2) (2.22)\n",
            "Requirement already satisfied: scipy>=1.5.0 in /usr/local/lib/python3.10/dist-packages (from scikit-learn->fairseq==0.12.2) (1.13.1)\n",
            "Requirement already satisfied: threadpoolctl>=2.0.0 in /usr/local/lib/python3.10/dist-packages (from scikit-learn->fairseq==0.12.2) (3.5.0)\n",
            "Requirement already satisfied: joblib>=1.1.1 in /usr/local/lib/python3.10/dist-packages (from scikit-learn->fairseq==0.12.2) (1.4.2)\n",
            "Requirement already satisfied: MarkupSafe>=2.0 in /usr/local/lib/python3.10/dist-packages (from jinja2->torch>=1.13->fairseq==0.12.2) (2.1.5)\n",
            "Requirement already satisfied: mpmath<1.4,>=1.1.0 in /usr/local/lib/python3.10/dist-packages (from sympy->torch>=1.13->fairseq==0.12.2) (1.3.0)\n",
            "Building wheels for collected packages: fairseq\n",
            "  Building editable for fairseq (pyproject.toml) ... \u001b[?25l\u001b[?25hdone\n",
            "  Created wheel for fairseq: filename=fairseq-0.12.2-0.editable-cp310-cp310-linux_x86_64.whl size=9563 sha256=bbfeb311a3e5efe72da99659b5cce7e0ce18ea7b9c0136765b7c65b78fd15b5b\n",
            "  Stored in directory: /tmp/pip-ephem-wheel-cache-b_mqvre5/wheels/35/06/0a/069b27863840c5a65a54102722daedf930b35e67cf5bb9e54b\n",
            "Successfully built fairseq\n",
            "Installing collected packages: fairseq\n",
            "  Attempting uninstall: fairseq\n",
            "    Found existing installation: fairseq 0.12.2\n",
            "    Uninstalling fairseq-0.12.2:\n",
            "      Successfully uninstalled fairseq-0.12.2\n",
            "Successfully installed fairseq-0.12.2\n"
          ]
        }
      ]
    },
    {
      "cell_type": "code",
      "source": [
        "!pip install hydra-core==1.3.2 omegaconf==2.3.0"
      ],
      "metadata": {
        "colab": {
          "base_uri": "https://localhost:8080/",
          "height": 558
        },
        "id": "EAYwqo2LEaxH",
        "outputId": "20f5c075-1e9e-47f8-841d-fbb135f425a8"
      },
      "execution_count": 38,
      "outputs": [
        {
          "output_type": "stream",
          "name": "stdout",
          "text": [
            "Collecting hydra-core==1.3.2\n",
            "  Using cached hydra_core-1.3.2-py3-none-any.whl (154 kB)\n",
            "Collecting omegaconf==2.3.0\n",
            "  Using cached omegaconf-2.3.0-py3-none-any.whl (79 kB)\n",
            "Requirement already satisfied: packaging in /usr/local/lib/python3.10/dist-packages (from hydra-core==1.3.2) (24.1)\n",
            "Collecting antlr4-python3-runtime==4.9.*\n",
            "  Using cached antlr4_python3_runtime-4.9.3-py3-none-any.whl\n",
            "Requirement already satisfied: PyYAML>=5.1.0 in /usr/local/lib/python3.10/dist-packages (from omegaconf==2.3.0) (6.0.1)\n",
            "Installing collected packages: antlr4-python3-runtime, omegaconf, hydra-core\n",
            "  Attempting uninstall: antlr4-python3-runtime\n",
            "    Found existing installation: antlr4-python3-runtime 4.8\n",
            "    Uninstalling antlr4-python3-runtime-4.8:\n",
            "      Successfully uninstalled antlr4-python3-runtime-4.8\n",
            "  Attempting uninstall: omegaconf\n",
            "    Found existing installation: omegaconf 2.0.6\n",
            "    Uninstalling omegaconf-2.0.6:\n",
            "      Successfully uninstalled omegaconf-2.0.6\n",
            "  Attempting uninstall: hydra-core\n",
            "    Found existing installation: hydra-core 1.0.7\n",
            "    Uninstalling hydra-core-1.0.7:\n",
            "      Successfully uninstalled hydra-core-1.0.7\n",
            "\u001b[31mERROR: pip's dependency resolver does not currently take into account all the packages that are installed. This behaviour is the source of the following dependency conflicts.\n",
            "fairseq 0.12.2 requires hydra-core<1.1,>=1.0.7, but you have hydra-core 1.3.2 which is incompatible.\n",
            "fairseq 0.12.2 requires omegaconf<2.1, but you have omegaconf 2.3.0 which is incompatible.\u001b[0m\u001b[31m\n",
            "\u001b[0mSuccessfully installed antlr4-python3-runtime-4.9.3 hydra-core-1.3.2 omegaconf-2.3.0\n"
          ]
        },
        {
          "output_type": "display_data",
          "data": {
            "application/vnd.colab-display-data+json": {
              "pip_warning": {
                "packages": [
                  "pydevd_plugins"
                ]
              },
              "id": "6b147842a4244b2a93b31ad02f0d1632"
            }
          },
          "metadata": {}
        }
      ]
    },
    {
      "cell_type": "code",
      "source": [
        "%cd auto_avsr"
      ],
      "metadata": {
        "colab": {
          "base_uri": "https://localhost:8080/"
        },
        "id": "XsZJ3K1X6UgY",
        "outputId": "534d17ab-46a6-41ab-b56c-eb8a7486272e"
      },
      "execution_count": 2,
      "outputs": [
        {
          "output_type": "stream",
          "name": "stdout",
          "text": [
            "/content/auto_avsr\n"
          ]
        }
      ]
    },
    {
      "cell_type": "code",
      "source": [
        "!python eval.py"
      ],
      "metadata": {
        "colab": {
          "base_uri": "https://localhost:8080/"
        },
        "id": "4--o-jdAz01S",
        "outputId": "563a428a-fdd9-407b-9856-5a4cc7cfd392"
      },
      "execution_count": 6,
      "outputs": [
        {
          "output_type": "stream",
          "name": "stdout",
          "text": [
            "/content/auto_avsr/eval.py:13: UserWarning: \n",
            "The version_base parameter is not specified.\n",
            "Please specify a compatability version level, or None.\n",
            "Will assume defaults for version 1.1\n",
            "  @hydra.main(config_path=\"configs\", config_name=\"config\")\n",
            "/usr/local/lib/python3.10/dist-packages/hydra/_internal/defaults_list.py:251: UserWarning: In 'config': Defaults list is missing `_self_`. See https://hydra.cc/docs/1.2/upgrades/1.0_to_1.1/default_composition_order for more information\n",
            "  warnings.warn(msg, UserWarning)\n",
            "/usr/local/lib/python3.10/dist-packages/hydra/_internal/hydra.py:119: UserWarning: Future Hydra versions will no longer change working directory at job runtime by default.\n",
            "See https://hydra.cc/docs/1.2/upgrades/1.1_to_1.2/changes_to_job_working_dir/ for more information.\n",
            "  ret = run_job(\n",
            "Error executing job with overrides: []\n",
            "Traceback (most recent call last):\n",
            "  File \"/content/auto_avsr/eval.py\", line 50, in <module>\n",
            "    main()\n",
            "  File \"/usr/local/lib/python3.10/dist-packages/hydra/main.py\", line 94, in decorated_main\n",
            "    _run_hydra(\n",
            "  File \"/usr/local/lib/python3.10/dist-packages/hydra/_internal/utils.py\", line 394, in _run_hydra\n",
            "    _run_app(\n",
            "  File \"/usr/local/lib/python3.10/dist-packages/hydra/_internal/utils.py\", line 457, in _run_app\n",
            "    run_and_report(\n",
            "  File \"/usr/local/lib/python3.10/dist-packages/hydra/_internal/utils.py\", line 223, in run_and_report\n",
            "    raise ex\n",
            "  File \"/usr/local/lib/python3.10/dist-packages/hydra/_internal/utils.py\", line 220, in run_and_report\n",
            "    return func()\n",
            "  File \"/usr/local/lib/python3.10/dist-packages/hydra/_internal/utils.py\", line 458, in <lambda>\n",
            "    lambda: hydra.run(\n",
            "  File \"/usr/local/lib/python3.10/dist-packages/hydra/_internal/hydra.py\", line 132, in run\n",
            "    _ = ret.return_value\n",
            "  File \"/usr/local/lib/python3.10/dist-packages/hydra/core/utils.py\", line 260, in return_value\n",
            "    raise self._return_value\n",
            "  File \"/usr/local/lib/python3.10/dist-packages/hydra/core/utils.py\", line 186, in run_job\n",
            "    ret.return_value = task_function(task_cfg)\n",
            "  File \"/content/auto_avsr/eval.py\", line 24, in main\n",
            "    modelmodule = ModelModule(cfg)\n",
            "  File \"/content/auto_avsr/lightning.py\", line 41, in __init__\n",
            "    self.model.load_state_dict(ckpt)\n",
            "  File \"/usr/local/lib/python3.10/dist-packages/torch/nn/modules/module.py\", line 2189, in load_state_dict\n",
            "    raise RuntimeError('Error(s) in loading state_dict for {}:\\n\\t{}'.format(\n",
            "RuntimeError: Error(s) in loading state_dict for E2E:\n",
            "\tUnexpected key(s) in state_dict: \"aux_encoder.frontend.trunk.conv1.weight\", \"aux_encoder.frontend.trunk.bn1.weight\", \"aux_encoder.frontend.trunk.bn1.bias\", \"aux_encoder.frontend.trunk.bn1.running_mean\", \"aux_encoder.frontend.trunk.bn1.running_var\", \"aux_encoder.frontend.trunk.bn1.num_batches_tracked\", \"aux_encoder.frontend.trunk.layer1.0.conv1.weight\", \"aux_encoder.frontend.trunk.layer1.0.bn1.weight\", \"aux_encoder.frontend.trunk.layer1.0.bn1.bias\", \"aux_encoder.frontend.trunk.layer1.0.bn1.running_mean\", \"aux_encoder.frontend.trunk.layer1.0.bn1.running_var\", \"aux_encoder.frontend.trunk.layer1.0.bn1.num_batches_tracked\", \"aux_encoder.frontend.trunk.layer1.0.conv2.weight\", \"aux_encoder.frontend.trunk.layer1.0.bn2.weight\", \"aux_encoder.frontend.trunk.layer1.0.bn2.bias\", \"aux_encoder.frontend.trunk.layer1.0.bn2.running_mean\", \"aux_encoder.frontend.trunk.layer1.0.bn2.running_var\", \"aux_encoder.frontend.trunk.layer1.0.bn2.num_batches_tracked\", \"aux_encoder.frontend.trunk.layer1.1.conv1.weight\", \"aux_encoder.frontend.trunk.layer1.1.bn1.weight\", \"aux_encoder.frontend.trunk.layer1.1.bn1.bias\", \"aux_encoder.frontend.trunk.layer1.1.bn1.running_mean\", \"aux_encoder.frontend.trunk.layer1.1.bn1.running_var\", \"aux_encoder.frontend.trunk.layer1.1.bn1.num_batches_tracked\", \"aux_encoder.frontend.trunk.layer1.1.conv2.weight\", \"aux_encoder.frontend.trunk.layer1.1.bn2.weight\", \"aux_encoder.frontend.trunk.layer1.1.bn2.bias\", \"aux_encoder.frontend.trunk.layer1.1.bn2.running_mean\", \"aux_encoder.frontend.trunk.layer1.1.bn2.running_var\", \"aux_encoder.frontend.trunk.layer1.1.bn2.num_batches_tracked\", \"aux_encoder.frontend.trunk.layer2.0.conv1.weight\", \"aux_encoder.frontend.trunk.layer2.0.bn1.weight\", \"aux_encoder.frontend.trunk.layer2.0.bn1.bias\", \"aux_encoder.frontend.trunk.layer2.0.bn1.running_mean\", \"aux_encoder.frontend.trunk.layer2.0.bn1.running_var\", \"aux_encoder.frontend.trunk.layer2.0.bn1.num_batches_tracked\", \"aux_encoder.frontend.trunk.layer2.0.conv2.weight\", \"aux_encoder.frontend.trunk.layer2.0.bn2.weight\", \"aux_encoder.frontend.trunk.layer2.0.bn2.bias\", \"aux_encoder.frontend.trunk.layer2.0.bn2.running_mean\", \"aux_encoder.frontend.trunk.layer2.0.bn2.running_var\", \"aux_encoder.frontend.trunk.layer2.0.bn2.num_batches_tracked\", \"aux_encoder.frontend.trunk.layer2.0.downsample.0.weight\", \"aux_encoder.frontend.trunk.layer2.0.downsample.1.weight\", \"aux_encoder.frontend.trunk.layer2.0.downsample.1.bias\", \"aux_encoder.frontend.trunk.layer2.0.downsample.1.running_mean\", \"aux_encoder.frontend.trunk.layer2.0.downsample.1.running_var\", \"aux_encoder.frontend.trunk.layer2.0.downsample.1.num_batches_tracked\", \"aux_encoder.frontend.trunk.layer2.1.conv1.weight\", \"aux_encoder.frontend.trunk.layer2.1.bn1.weight\", \"aux_encoder.frontend.trunk.layer2.1.bn1.bias\", \"aux_encoder.frontend.trunk.layer2.1.bn1.running_mean\", \"aux_encoder.frontend.trunk.layer2.1.bn1.running_var\", \"aux_encoder.frontend.trunk.layer2.1.bn1.num_batches_tracked\", \"aux_encoder.frontend.trunk.layer2.1.conv2.weight\", \"aux_encoder.frontend.trunk.layer2.1.bn2.weight\", \"aux_encoder.frontend.trunk.layer2.1.bn2.bias\", \"aux_encoder.frontend.trunk.layer2.1.bn2.running_mean\", \"aux_encoder.frontend.trunk.layer2.1.bn2.running_var\", \"aux_encoder.frontend.trunk.layer2.1.bn2.num_batches_tracked\", \"aux_encoder.frontend.trunk.layer3.0.conv1.weight\", \"aux_encoder.frontend.trunk.layer3.0.bn1.weight\", \"aux_encoder.frontend.trunk.layer3.0.bn1.bias\", \"aux_encoder.frontend.trunk.layer3.0.bn1.running_mean\", \"aux_encoder.frontend.trunk.layer3.0.bn1.running_var\", \"aux_encoder.frontend.trunk.layer3.0.bn1.num_batches_tracked\", \"aux_encoder.frontend.trunk.layer3.0.conv2.weight\", \"aux_encoder.frontend.trunk.layer3.0.bn2.weight\", \"aux_encoder.frontend.trunk.layer3.0.bn2.bias\", \"aux_encoder.frontend.trunk.layer3.0.bn2.running_mean\", \"aux_encoder.frontend.trunk.layer3.0.bn2.running_var\", \"aux_encoder.frontend.trunk.layer3.0.bn2.num_batches_tracked\", \"aux_encoder.frontend.trunk.layer3.0.downsample.0.weight\", \"aux_encoder.frontend.trunk.layer3.0.downsample.1.weight\", \"aux_encoder.frontend.trunk.layer3.0.downsample.1.bias\", \"aux_encoder.frontend.trunk.layer3.0.downsample.1.running_mean\", \"aux_encoder.frontend.trunk.layer3.0.downsample.1.running_var\", \"aux_encoder.frontend.trunk.layer3.0.downsample.1.num_batches_tracked\", \"aux_encoder.frontend.trunk.layer3.1.conv1.weight\", \"aux_encoder.frontend.trunk.layer3.1.bn1.weight\", \"aux_encoder.frontend.trunk.layer3.1.bn1.bias\", \"aux_encoder.frontend.trunk.layer3.1.bn1.running_mean\", \"aux_encoder.frontend.trunk.layer3.1.bn1.running_var\", \"aux_encoder.frontend.trunk.layer3.1.bn1.num_batches_tracked\", \"aux_encoder.frontend.trunk.layer3.1.conv2.weight\", \"aux_encoder.frontend.trunk.layer3.1.bn2.weight\", \"aux_encoder.frontend.trunk.layer3.1.bn2.bias\", \"aux_encoder.frontend.trunk.layer3.1.bn2.running_mean\", \"aux_encoder.frontend.trunk.layer3.1.bn2.running_var\", \"aux_encoder.frontend.trunk.layer3.1.bn2.num_batches_tracked\", \"aux_encoder.frontend.trunk.layer4.0.conv1.weight\", \"aux_encoder.frontend.trunk.layer4.0.bn1.weight\", \"aux_encoder.frontend.trunk.layer4.0.bn1.bias\", \"aux_encoder.frontend.trunk.layer4.0.bn1.running_mean\", \"aux_encoder.frontend.trunk.layer4.0.bn1.running_var\", \"aux_encoder.frontend.trunk.layer4.0.bn1.num_batches_tracked\", \"aux_encoder.frontend.trunk.layer4.0.conv2.weight\", \"aux_encoder.frontend.trunk.layer4.0.bn2.weight\", \"aux_encoder.frontend.trunk.layer4.0.bn2.bias\", \"aux_encoder.frontend.trunk.layer4.0.bn2.running_mean\", \"aux_encoder.frontend.trunk.layer4.0.bn2.running_var\", \"aux_encoder.frontend.trunk.layer4.0.bn2.num_batches_tracked\", \"aux_encoder.frontend.trunk.layer4.0.downsample.0.weight\", \"aux_encoder.frontend.trunk.layer4.0.downsample.1.weight\", \"aux_encoder.frontend.trunk.layer4.0.downsample.1.bias\", \"aux_encoder.frontend.trunk.layer4.0.downsample.1.running_mean\", \"aux_encoder.frontend.trunk.layer4.0.downsample.1.running_var\", \"aux_encoder.frontend.trunk.layer4.0.downsample.1.num_batches_tracked\", \"aux_encoder.frontend.trunk.layer4.1.conv1.weight\", \"aux_encoder.frontend.trunk.layer4.1.bn1.weight\", \"aux_encoder.frontend.trunk.layer4.1.bn1.bias\", \"aux_encoder.frontend.trunk.layer4.1.bn1.running_mean\", \"aux_encoder.frontend.trunk.layer4.1.bn1.running_var\", \"aux_encoder.frontend.trunk.layer4.1.bn1.num_batches_tracked\", \"aux_encoder.frontend.trunk.layer4.1.conv2.weight\", \"aux_encoder.frontend.trunk.layer4.1.bn2.weight\", \"aux_encoder.frontend.trunk.layer4.1.bn2.bias\", \"aux_encoder.frontend.trunk.layer4.1.bn2.running_mean\", \"aux_encoder.frontend.trunk.layer4.1.bn2.running_var\", \"aux_encoder.frontend.trunk.layer4.1.bn2.num_batches_tracked\", \"aux_encoder.embed.0.weight\", \"aux_encoder.embed.0.bias\", \"aux_encoder.encoders.0.self_attn.pos_bias_u\", \"aux_encoder.encoders.0.self_attn.pos_bias_v\", \"aux_encoder.encoders.0.self_attn.linear_q.weight\", \"aux_encoder.encoders.0.self_attn.linear_q.bias\", \"aux_encoder.encoders.0.self_attn.linear_k.weight\", \"aux_encoder.encoders.0.self_attn.linear_k.bias\", \"aux_encoder.encoders.0.self_attn.linear_v.weight\", \"aux_encoder.encoders.0.self_attn.linear_v.bias\", \"aux_encoder.encoders.0.self_attn.linear_out.weight\", \"aux_encoder.encoders.0.self_attn.linear_out.bias\", \"aux_encoder.encoders.0.self_attn.linear_pos.weight\", \"aux_encoder.encoders.0.feed_forward.w_1.weight\", \"aux_encoder.encoders.0.feed_forward.w_1.bias\", \"aux_encoder.encoders.0.feed_forward.w_2.weight\", \"aux_encoder.encoders.0.feed_forward.w_2.bias\", \"aux_encoder.encoders.0.conv_module.pointwise_cov1.weight\", \"aux_encoder.encoders.0.conv_module.pointwise_cov1.bias\", \"aux_encoder.encoders.0.conv_module.depthwise_conv.weight\", \"aux_encoder.encoders.0.conv_module.depthwise_conv.bias\", \"aux_encoder.encoders.0.conv_module.norm.weight\", \"aux_encoder.encoders.0.conv_module.norm.bias\", \"aux_encoder.encoders.0.conv_module.norm.running_mean\", \"aux_encoder.encoders.0.conv_module.norm.running_var\", \"aux_encoder.encoders.0.conv_module.norm.num_batches_tracked\", \"aux_encoder.encoders.0.conv_module.pointwise_cov2.weight\", \"aux_encoder.encoders.0.conv_module.pointwise_cov2.bias\", \"aux_encoder.encoders.0.norm_ff.weight\", \"aux_encoder.encoders.0.norm_ff.bias\", \"aux_encoder.encoders.0.norm_mha.weight\", \"aux_encoder.encoders.0.norm_mha.bias\", \"aux_encoder.encoders.0.feed_forward_macaron.w_1.weight\", \"aux_encoder.encoders.0.feed_forward_macaron.w_1.bias\", \"aux_encoder.encoders.0.feed_forward_macaron.w_2.weight\", \"aux_encoder.encoders.0.feed_forward_macaron.w_2.bias\", \"aux_encoder.encoders.0.norm_ff_macaron.weight\", \"aux_encoder.encoders.0.norm_ff_macaron.bias\", \"aux_encoder.encoders.0.norm_conv.weight\", \"aux_encoder.encoders.0.norm_conv.bias\", \"aux_encoder.encoders.0.norm_final.weight\", \"aux_encoder.encoders.0.norm_final.bias\", \"aux_encoder.encoders.1.self_attn.pos_bias_u\", \"aux_encoder.encoders.1.self_attn.pos_bias_v\", \"aux_encoder.encoders.1.self_attn.linear_q.weight\", \"aux_encoder.encoders.1.self_attn.linear_q.bias\", \"aux_encoder.encoders.1.self_attn.linear_k.weight\", \"aux_encoder.encoders.1.self_attn.linear_k.bias\", \"aux_encoder.encoders.1.self_attn.linear_v.weight\", \"aux_encoder.encoders.1.self_attn.linear_v.bias\", \"aux_encoder.encoders.1.self_attn.linear_out.weight\", \"aux_encoder.encoders.1.self_attn.linear_out.bias\", \"aux_encoder.encoders.1.self_attn.linear_pos.weight\", \"aux_encoder.encoders.1.feed_forward.w_1.weight\", \"aux_encoder.encoders.1.feed_forward.w_1.bias\", \"aux_encoder.encoders.1.feed_forward.w_2.weight\", \"aux_encoder.encoders.1.feed_forward.w_2.bias\", \"aux_encoder.encoders.1.conv_module.pointwise_cov1.weight\", \"aux_encoder.encoders.1.conv_module.pointwise_cov1.bias\", \"aux_encoder.encoders.1.conv_module.depthwise_conv.weight\", \"aux_encoder.encoders.1.conv_module.depthwise_conv.bias\", \"aux_encoder.encoders.1.conv_module.norm.weight\", \"aux_encoder.encoders.1.conv_module.norm.bias\", \"aux_encoder.encoders.1.conv_module.norm.running_mean\", \"aux_encoder.encoders.1.conv_module.norm.running_var\", \"aux_encoder.encoders.1.conv_module.norm.num_batches_tracked\", \"aux_encoder.encoders.1.conv_module.pointwise_cov2.weight\", \"aux_encoder.encoders.1.conv_module.pointwise_cov2.bias\", \"aux_encoder.encoders.1.norm_ff.weight\", \"aux_encoder.encoders.1.norm_ff.bias\", \"aux_encoder.encoders.1.norm_mha.weight\", \"aux_encoder.encoders.1.norm_mha.bias\", \"aux_encoder.encoders.1.feed_forward_macaron.w_1.weight\", \"aux_encoder.encoders.1.feed_forward_macaron.w_1.bias\", \"aux_encoder.encoders.1.feed_forward_macaron.w_2.weight\", \"aux_encoder.encoders.1.feed_forward_macaron.w_2.bias\", \"aux_encoder.encoders.1.norm_ff_macaron.weight\", \"aux_encoder.encoders.1.norm_ff_macaron.bias\", \"aux_encoder.encoders.1.norm_conv.weight\", \"aux_encoder.encoders.1.norm_conv.bias\", \"aux_encoder.encoders.1.norm_final.weight\", \"aux_encoder.encoders.1.norm_final.bias\", \"aux_encoder.encoders.2.self_attn.pos_bias_u\", \"aux_encoder.encoders.2.self_attn.pos_bias_v\", \"aux_encoder.encoders.2.self_attn.linear_q.weight\", \"aux_encoder.encoders.2.self_attn.linear_q.bias\", \"aux_encoder.encoders.2.self_attn.linear_k.weight\", \"aux_encoder.encoders.2.self_attn.linear_k.bias\", \"aux_encoder.encoders.2.self_attn.linear_v.weight\", \"aux_encoder.encoders.2.self_attn.linear_v.bias\", \"aux_encoder.encoders.2.self_attn.linear_out.weight\", \"aux_encoder.encoders.2.self_attn.linear_out.bias\", \"aux_encoder.encoders.2.self_attn.linear_pos.weight\", \"aux_encoder.encoders.2.feed_forward.w_1.weight\", \"aux_encoder.encoders.2.feed_forward.w_1.bias\", \"aux_encoder.encoders.2.feed_forward.w_2.weight\", \"aux_encoder.encoders.2.feed_forward.w_2.bias\", \"aux_encoder.encoders.2.conv_module.pointwise_cov1.weight\", \"aux_encoder.encoders.2.conv_module.pointwise_cov1.bias\", \"aux_encoder.encoders.2.conv_module.depthwise_conv.weight\", \"aux_encoder.encoders.2.conv_module.depthwise_conv.bias\", \"aux_encoder.encoders.2.conv_module.norm.weight\", \"aux_encoder.encoders.2.conv_module.norm.bias\", \"aux_encoder.encoders.2.conv_module.norm.running_mean\", \"aux_encoder.encoders.2.conv_module.norm.running_var\", \"aux_encoder.encoders.2.conv_module.norm.num_batches_tracked\", \"aux_encoder.encoders.2.conv_module.pointwise_cov2.weight\", \"aux_encoder.encoders.2.conv_module.pointwise_cov2.bias\", \"aux_encoder.encoders.2.norm_ff.weight\", \"aux_encoder.encoders.2.norm_ff.bias\", \"aux_encoder.encoders.2.norm_mha.weight\", \"aux_encoder.encoders.2.norm_mha.bias\", \"aux_encoder.encoders.2.feed_forward_macaron.w_1.weight\", \"aux_encoder.encoders.2.feed_forward_macaron.w_1.bias\", \"aux_encoder.encoders.2.feed_forward_macaron.w_2.weight\", \"aux_encoder.encoders.2.feed_forward_macaron.w_2.bias\", \"aux_encoder.encoders.2.norm_ff_macaron.weight\", \"aux_encoder.encoders.2.norm_ff_macaron.bias\", \"aux_encoder.encoders.2.norm_conv.weight\", \"aux_encoder.encoders.2.norm_conv.bias\", \"aux_encoder.encoders.2.norm_final.weight\", \"aux_encoder.encoders.2.norm_final.bias\", \"aux_encoder.encoders.3.self_attn.pos_bias_u\", \"aux_encoder.encoders.3.self_attn.pos_bias_v\", \"aux_encoder.encoders.3.self_attn.linear_q.weight\", \"aux_encoder.encoders.3.self_attn.linear_q.bias\", \"aux_encoder.encoders.3.self_attn.linear_k.weight\", \"aux_encoder.encoders.3.self_attn.linear_k.bias\", \"aux_encoder.encoders.3.self_attn.linear_v.weight\", \"aux_encoder.encoders.3.self_attn.linear_v.bias\", \"aux_encoder.encoders.3.self_attn.linear_out.weight\", \"aux_encoder.encoders.3.self_attn.linear_out.bias\", \"aux_encoder.encoders.3.self_attn.linear_pos.weight\", \"aux_encoder.encoders.3.feed_forward.w_1.weight\", \"aux_encoder.encoders.3.feed_forward.w_1.bias\", \"aux_encoder.encoders.3.feed_forward.w_2.weight\", \"aux_encoder.encoders.3.feed_forward.w_2.bias\", \"aux_encoder.encoders.3.conv_module.pointwise_cov1.weight\", \"aux_encoder.encoders.3.conv_module.pointwise_cov1.bias\", \"aux_encoder.encoders.3.conv_module.depthwise_conv.weight\", \"aux_encoder.encoders.3.conv_module.depthwise_conv.bias\", \"aux_encoder.encoders.3.conv_module.norm.weight\", \"aux_encoder.encoders.3.conv_module.norm.bias\", \"aux_encoder.encoders.3.conv_module.norm.running_mean\", \"aux_encoder.encoders.3.conv_module.norm.running_var\", \"aux_encoder.encoders.3.conv_module.norm.num_batches_tracked\", \"aux_encoder.encoders.3.conv_module.pointwise_cov2.weight\", \"aux_encoder.encoders.3.conv_module.pointwise_cov2.bias\", \"aux_encoder.encoders.3.norm_ff.weight\", \"aux_encoder.encoders.3.norm_ff.bias\", \"aux_encoder.encoders.3.norm_mha.weight\", \"aux_encoder.encoders.3.norm_mha.bias\", \"aux_encoder.encoders.3.feed_forward_macaron.w_1.weight\", \"aux_encoder.encoders.3.feed_forward_macaron.w_1.bias\", \"aux_encoder.encoders.3.feed_forward_macaron.w_2.weight\", \"aux_encoder.encoders.3.feed_forward_macaron.w_2.bias\", \"aux_encoder.encoders.3.norm_ff_macaron.weight\", \"aux_encoder.encoders.3.norm_ff_macaron.bias\", \"aux_encoder.encoders.3.norm_conv.weight\", \"aux_encoder.encoders.3.norm_conv.bias\", \"aux_encoder.encoders.3.norm_final.weight\", \"aux_encoder.encoders.3.norm_final.bias\", \"aux_encoder.encoders.4.self_attn.pos_bias_u\", \"aux_encoder.encoders.4.self_attn.pos_bias_v\", \"aux_encoder.encoders.4.self_attn.linear_q.weight\", \"aux_encoder.encoders.4.self_attn.linear_q.bias\", \"aux_encoder.encoders.4.self_attn.linear_k.weight\", \"aux_encoder.encoders.4.self_attn.linear_k.bias\", \"aux_encoder.encoders.4.self_attn.linear_v.weight\", \"aux_encoder.encoders.4.self_attn.linear_v.bias\", \"aux_encoder.encoders.4.self_attn.linear_out.weight\", \"aux_encoder.encoders.4.self_attn.linear_out.bias\", \"aux_encoder.encoders.4.self_attn.linear_pos.weight\", \"aux_encoder.encoders.4.feed_forward.w_1.weight\", \"aux_encoder.encoders.4.feed_forward.w_1.bias\", \"aux_encoder.encoders.4.feed_forward.w_2.weight\", \"aux_encoder.encoders.4.feed_forward.w_2.bias\", \"aux_encoder.encoders.4.conv_module.pointwise_cov1.weight\", \"aux_encoder.encoders.4.conv_module.pointwise_cov1.bias\", \"aux_encoder.encoders.4.conv_module.depthwise_conv.weight\", \"aux_encoder.encoders.4.conv_module.depthwise_conv.bias\", \"aux_encoder.encoders.4.conv_module.norm.weight\", \"aux_encoder.encoders.4.conv_module.norm.bias\", \"aux_encoder.encoders.4.conv_module.norm.running_mean\", \"aux_encoder.encoders.4.conv_module.norm.running_var\", \"aux_encoder.encoders.4.conv_module.norm.num_batches_tracked\", \"aux_encoder.encoders.4.conv_module.pointwise_cov2.weight\", \"aux_encoder.encoders.4.conv_module.pointwise_cov2.bias\", \"aux_encoder.encoders.4.norm_ff.weight\", \"aux_encoder.encoders.4.norm_ff.bias\", \"aux_encoder.encoders.4.norm_mha.weight\", \"aux_encoder.encoders.4.norm_mha.bias\", \"aux_encoder.encoders.4.feed_forward_macaron.w_1.weight\", \"aux_encoder.encoders.4.feed_forward_macaron.w_1.bias\", \"aux_encoder.encoders.4.feed_forward_macaron.w_2.weight\", \"aux_encoder.encoders.4.feed_forward_macaron.w_2.bias\", \"aux_encoder.encoders.4.norm_ff_macaron.weight\", \"aux_encoder.encoders.4.norm_ff_macaron.bias\", \"aux_encoder.encoders.4.norm_conv.weight\", \"aux_encoder.encoders.4.norm_conv.bias\", \"aux_encoder.encoders.4.norm_final.weight\", \"aux_encoder.encoders.4.norm_final.bias\", \"aux_encoder.encoders.5.self_attn.pos_bias_u\", \"aux_encoder.encoders.5.self_attn.pos_bias_v\", \"aux_encoder.encoders.5.self_attn.linear_q.weight\", \"aux_encoder.encoders.5.self_attn.linear_q.bias\", \"aux_encoder.encoders.5.self_attn.linear_k.weight\", \"aux_encoder.encoders.5.self_attn.linear_k.bias\", \"aux_encoder.encoders.5.self_attn.linear_v.weight\", \"aux_encoder.encoders.5.self_attn.linear_v.bias\", \"aux_encoder.encoders.5.self_attn.linear_out.weight\", \"aux_encoder.encoders.5.self_attn.linear_out.bias\", \"aux_encoder.encoders.5.self_attn.linear_pos.weight\", \"aux_encoder.encoders.5.feed_forward.w_1.weight\", \"aux_encoder.encoders.5.feed_forward.w_1.bias\", \"aux_encoder.encoders.5.feed_forward.w_2.weight\", \"aux_encoder.encoders.5.feed_forward.w_2.bias\", \"aux_encoder.encoders.5.conv_module.pointwise_cov1.weight\", \"aux_encoder.encoders.5.conv_module.pointwise_cov1.bias\", \"aux_encoder.encoders.5.conv_module.depthwise_conv.weight\", \"aux_encoder.encoders.5.conv_module.depthwise_conv.bias\", \"aux_encoder.encoders.5.conv_module.norm.weight\", \"aux_encoder.encoders.5.conv_module.norm.bias\", \"aux_encoder.encoders.5.conv_module.norm.running_mean\", \"aux_encoder.encoders.5.conv_module.norm.running_var\", \"aux_encoder.encoders.5.conv_module.norm.num_batches_tracked\", \"aux_encoder.encoders.5.conv_module.pointwise_cov2.weight\", \"aux_encoder.encoders.5.conv_module.pointwise_cov2.bias\", \"aux_encoder.encoders.5.norm_ff.weight\", \"aux_encoder.encoders.5.norm_ff.bias\", \"aux_encoder.encoders.5.norm_mha.weight\", \"aux_encoder.encoders.5.norm_mha.bias\", \"aux_encoder.encoders.5.feed_forward_macaron.w_1.weight\", \"aux_encoder.encoders.5.feed_forward_macaron.w_1.bias\", \"aux_encoder.encoders.5.feed_forward_macaron.w_2.weight\", \"aux_encoder.encoders.5.feed_forward_macaron.w_2.bias\", \"aux_encoder.encoders.5.norm_ff_macaron.weight\", \"aux_encoder.encoders.5.norm_ff_macaron.bias\", \"aux_encoder.encoders.5.norm_conv.weight\", \"aux_encoder.encoders.5.norm_conv.bias\", \"aux_encoder.encoders.5.norm_final.weight\", \"aux_encoder.encoders.5.norm_final.bias\", \"aux_encoder.encoders.6.self_attn.pos_bias_u\", \"aux_encoder.encoders.6.self_attn.pos_bias_v\", \"aux_encoder.encoders.6.self_attn.linear_q.weight\", \"aux_encoder.encoders.6.self_attn.linear_q.bias\", \"aux_encoder.encoders.6.self_attn.linear_k.weight\", \"aux_encoder.encoders.6.self_attn.linear_k.bias\", \"aux_encoder.encoders.6.self_attn.linear_v.weight\", \"aux_encoder.encoders.6.self_attn.linear_v.bias\", \"aux_encoder.encoders.6.self_attn.linear_out.weight\", \"aux_encoder.encoders.6.self_attn.linear_out.bias\", \"aux_encoder.encoders.6.self_attn.linear_pos.weight\", \"aux_encoder.encoders.6.feed_forward.w_1.weight\", \"aux_encoder.encoders.6.feed_forward.w_1.bias\", \"aux_encoder.encoders.6.feed_forward.w_2.weight\", \"aux_encoder.encoders.6.feed_forward.w_2.bias\", \"aux_encoder.encoders.6.conv_module.pointwise_cov1.weight\", \"aux_encoder.encoders.6.conv_module.pointwise_cov1.bias\", \"aux_encoder.encoders.6.conv_module.depthwise_conv.weight\", \"aux_encoder.encoders.6.conv_module.depthwise_conv.bias\", \"aux_encoder.encoders.6.conv_module.norm.weight\", \"aux_encoder.encoders.6.conv_module.norm.bias\", \"aux_encoder.encoders.6.conv_module.norm.running_mean\", \"aux_encoder.encoders.6.conv_module.norm.running_var\", \"aux_encoder.encoders.6.conv_module.norm.num_batches_tracked\", \"aux_encoder.encoders.6.conv_module.pointwise_cov2.weight\", \"aux_encoder.encoders.6.conv_module.pointwise_cov2.bias\", \"aux_encoder.encoders.6.norm_ff.weight\", \"aux_encoder.encoders.6.norm_ff.bias\", \"aux_encoder.encoders.6.norm_mha.weight\", \"aux_encoder.encoders.6.norm_mha.bias\", \"aux_encoder.encoders.6.feed_forward_macaron.w_1.weight\", \"aux_encoder.encoders.6.feed_forward_macaron.w_1.bias\", \"aux_encoder.encoders.6.feed_forward_macaron.w_2.weight\", \"aux_encoder.encoders.6.feed_forward_macaron.w_2.bias\", \"aux_encoder.encoders.6.norm_ff_macaron.weight\", \"aux_encoder.encoders.6.norm_ff_macaron.bias\", \"aux_encoder.encoders.6.norm_conv.weight\", \"aux_encoder.encoders.6.norm_conv.bias\", \"aux_encoder.encoders.6.norm_final.weight\", \"aux_encoder.encoders.6.norm_final.bias\", \"aux_encoder.encoders.7.self_attn.pos_bias_u\", \"aux_encoder.encoders.7.self_attn.pos_bias_v\", \"aux_encoder.encoders.7.self_attn.linear_q.weight\", \"aux_encoder.encoders.7.self_attn.linear_q.bias\", \"aux_encoder.encoders.7.self_attn.linear_k.weight\", \"aux_encoder.encoders.7.self_attn.linear_k.bias\", \"aux_encoder.encoders.7.self_attn.linear_v.weight\", \"aux_encoder.encoders.7.self_attn.linear_v.bias\", \"aux_encoder.encoders.7.self_attn.linear_out.weight\", \"aux_encoder.encoders.7.self_attn.linear_out.bias\", \"aux_encoder.encoders.7.self_attn.linear_pos.weight\", \"aux_encoder.encoders.7.feed_forward.w_1.weight\", \"aux_encoder.encoders.7.feed_forward.w_1.bias\", \"aux_encoder.encoders.7.feed_forward.w_2.weight\", \"aux_encoder.encoders.7.feed_forward.w_2.bias\", \"aux_encoder.encoders.7.conv_module.pointwise_cov1.weight\", \"aux_encoder.encoders.7.conv_module.pointwise_cov1.bias\", \"aux_encoder.encoders.7.conv_module.depthwise_conv.weight\", \"aux_encoder.encoders.7.conv_module.depthwise_conv.bias\", \"aux_encoder.encoders.7.conv_module.norm.weight\", \"aux_encoder.encoders.7.conv_module.norm.bias\", \"aux_encoder.encoders.7.conv_module.norm.running_mean\", \"aux_encoder.encoders.7.conv_module.norm.running_var\", \"aux_encoder.encoders.7.conv_module.norm.num_batches_tracked\", \"aux_encoder.encoders.7.conv_module.pointwise_cov2.weight\", \"aux_encoder.encoders.7.conv_module.pointwise_cov2.bias\", \"aux_encoder.encoders.7.norm_ff.weight\", \"aux_encoder.encoders.7.norm_ff.bias\", \"aux_encoder.encoders.7.norm_mha.weight\", \"aux_encoder.encoders.7.norm_mha.bias\", \"aux_encoder.encoders.7.feed_forward_macaron.w_1.weight\", \"aux_encoder.encoders.7.feed_forward_macaron.w_1.bias\", \"aux_encoder.encoders.7.feed_forward_macaron.w_2.weight\", \"aux_encoder.encoders.7.feed_forward_macaron.w_2.bias\", \"aux_encoder.encoders.7.norm_ff_macaron.weight\", \"aux_encoder.encoders.7.norm_ff_macaron.bias\", \"aux_encoder.encoders.7.norm_conv.weight\", \"aux_encoder.encoders.7.norm_conv.bias\", \"aux_encoder.encoders.7.norm_final.weight\", \"aux_encoder.encoders.7.norm_final.bias\", \"aux_encoder.encoders.8.self_attn.pos_bias_u\", \"aux_encoder.encoders.8.self_attn.pos_bias_v\", \"aux_encoder.encoders.8.self_attn.linear_q.weight\", \"aux_encoder.encoders.8.self_attn.linear_q.bias\", \"aux_encoder.encoders.8.self_attn.linear_k.weight\", \"aux_encoder.encoders.8.self_attn.linear_k.bias\", \"aux_encoder.encoders.8.self_attn.linear_v.weight\", \"aux_encoder.encoders.8.self_attn.linear_v.bias\", \"aux_encoder.encoders.8.self_attn.linear_out.weight\", \"aux_encoder.encoders.8.self_attn.linear_out.bias\", \"aux_encoder.encoders.8.self_attn.linear_pos.weight\", \"aux_encoder.encoders.8.feed_forward.w_1.weight\", \"aux_encoder.encoders.8.feed_forward.w_1.bias\", \"aux_encoder.encoders.8.feed_forward.w_2.weight\", \"aux_encoder.encoders.8.feed_forward.w_2.bias\", \"aux_encoder.encoders.8.conv_module.pointwise_cov1.weight\", \"aux_encoder.encoders.8.conv_module.pointwise_cov1.bias\", \"aux_encoder.encoders.8.conv_module.depthwise_conv.weight\", \"aux_encoder.encoders.8.conv_module.depthwise_conv.bias\", \"aux_encoder.encoders.8.conv_module.norm.weight\", \"aux_encoder.encoders.8.conv_module.norm.bias\", \"aux_encoder.encoders.8.conv_module.norm.running_mean\", \"aux_encoder.encoders.8.conv_module.norm.running_var\", \"aux_encoder.encoders.8.conv_module.norm.num_batches_tracked\", \"aux_encoder.encoders.8.conv_module.pointwise_cov2.weight\", \"aux_encoder.encoders.8.conv_module.pointwise_cov2.bias\", \"aux_encoder.encoders.8.norm_ff.weight\", \"aux_encoder.encoders.8.norm_ff.bias\", \"aux_encoder.encoders.8.norm_mha.weight\", \"aux_encoder.encoders.8.norm_mha.bias\", \"aux_encoder.encoders.8.feed_forward_macaron.w_1.weight\", \"aux_encoder.encoders.8.feed_forward_macaron.w_1.bias\", \"aux_encoder.encoders.8.feed_forward_macaron.w_2.weight\", \"aux_encoder.encoders.8.feed_forward_macaron.w_2.bias\", \"aux_encoder.encoders.8.norm_ff_macaron.weight\", \"aux_encoder.encoders.8.norm_ff_macaron.bias\", \"aux_encoder.encoders.8.norm_conv.weight\", \"aux_encoder.encoders.8.norm_conv.bias\", \"aux_encoder.encoders.8.norm_final.weight\", \"aux_encoder.encoders.8.norm_final.bias\", \"aux_encoder.encoders.9.self_attn.pos_bias_u\", \"aux_encoder.encoders.9.self_attn.pos_bias_v\", \"aux_encoder.encoders.9.self_attn.linear_q.weight\", \"aux_encoder.encoders.9.self_attn.linear_q.bias\", \"aux_encoder.encoders.9.self_attn.linear_k.weight\", \"aux_encoder.encoders.9.self_attn.linear_k.bias\", \"aux_encoder.encoders.9.self_attn.linear_v.weight\", \"aux_encoder.encoders.9.self_attn.linear_v.bias\", \"aux_encoder.encoders.9.self_attn.linear_out.weight\", \"aux_encoder.encoders.9.self_attn.linear_out.bias\", \"aux_encoder.encoders.9.self_attn.linear_pos.weight\", \"aux_encoder.encoders.9.feed_forward.w_1.weight\", \"aux_encoder.encoders.9.feed_forward.w_1.bias\", \"aux_encoder.encoders.9.feed_forward.w_2.weight\", \"aux_encoder.encoders.9.feed_forward.w_2.bias\", \"aux_encoder.encoders.9.conv_module.pointwise_cov1.weight\", \"aux_encoder.encoders.9.conv_module.pointwise_cov1.bias\", \"aux_encoder.encoders.9.conv_module.depthwise_conv.weight\", \"aux_encoder.encoders.9.conv_module.depthwise_conv.bias\", \"aux_encoder.encoders.9.conv_module.norm.weight\", \"aux_encoder.encoders.9.conv_module.norm.bias\", \"aux_encoder.encoders.9.conv_module.norm.running_mean\", \"aux_encoder.encoders.9.conv_module.norm.running_var\", \"aux_encoder.encoders.9.conv_module.norm.num_batches_tracked\", \"aux_encoder.encoders.9.conv_module.pointwise_cov2.weight\", \"aux_encoder.encoders.9.conv_module.pointwise_cov2.bias\", \"aux_encoder.encoders.9.norm_ff.weight\", \"aux_encoder.encoders.9.norm_ff.bias\", \"aux_encoder.encoders.9.norm_mha.weight\", \"aux_encoder.encoders.9.norm_mha.bias\", \"aux_encoder.encoders.9.feed_forward_macaron.w_1.weight\", \"aux_encoder.encoders.9.feed_forward_macaron.w_1.bias\", \"aux_encoder.encoders.9.feed_forward_macaron.w_2.weight\", \"aux_encoder.encoders.9.feed_forward_macaron.w_2.bias\", \"aux_encoder.encoders.9.norm_ff_macaron.weight\", \"aux_encoder.encoders.9.norm_ff_macaron.bias\", \"aux_encoder.encoders.9.norm_conv.weight\", \"aux_encoder.encoders.9.norm_conv.bias\", \"aux_encoder.encoders.9.norm_final.weight\", \"aux_encoder.encoders.9.norm_final.bias\", \"aux_encoder.encoders.10.self_attn.pos_bias_u\", \"aux_encoder.encoders.10.self_attn.pos_bias_v\", \"aux_encoder.encoders.10.self_attn.linear_q.weight\", \"aux_encoder.encoders.10.self_attn.linear_q.bias\", \"aux_encoder.encoders.10.self_attn.linear_k.weight\", \"aux_encoder.encoders.10.self_attn.linear_k.bias\", \"aux_encoder.encoders.10.self_attn.linear_v.weight\", \"aux_encoder.encoders.10.self_attn.linear_v.bias\", \"aux_encoder.encoders.10.self_attn.linear_out.weight\", \"aux_encoder.encoders.10.self_attn.linear_out.bias\", \"aux_encoder.encoders.10.self_attn.linear_pos.weight\", \"aux_encoder.encoders.10.feed_forward.w_1.weight\", \"aux_encoder.encoders.10.feed_forward.w_1.bias\", \"aux_encoder.encoders.10.feed_forward.w_2.weight\", \"aux_encoder.encoders.10.feed_forward.w_2.bias\", \"aux_encoder.encoders.10.conv_module.pointwise_cov1.weight\", \"aux_encoder.encoders.10.conv_module.pointwise_cov1.bias\", \"aux_encoder.encoders.10.conv_module.depthwise_conv.weight\", \"aux_encoder.encoders.10.conv_module.depthwise_conv.bias\", \"aux_encoder.encoders.10.conv_module.norm.weight\", \"aux_encoder.encoders.10.conv_module.norm.bias\", \"aux_encoder.encoders.10.conv_module.norm.running_mean\", \"aux_encoder.encoders.10.conv_module.norm.running_var\", \"aux_encoder.encoders.10.conv_module.norm.num_batches_tracked\", \"aux_encoder.encoders.10.conv_module.pointwise_cov2.weight\", \"aux_encoder.encoders.10.conv_module.pointwise_cov2.bias\", \"aux_encoder.encoders.10.norm_ff.weight\", \"aux_encoder.encoders.10.norm_ff.bias\", \"aux_encoder.encoders.10.norm_mha.weight\", \"aux_encoder.encoders.10.norm_mha.bias\", \"aux_encoder.encoders.10.feed_forward_macaron.w_1.weight\", \"aux_encoder.encoders.10.feed_forward_macaron.w_1.bias\", \"aux_encoder.encoders.10.feed_forward_macaron.w_2.weight\", \"aux_encoder.encoders.10.feed_forward_macaron.w_2.bias\", \"aux_encoder.encoders.10.norm_ff_macaron.weight\", \"aux_encoder.encoders.10.norm_ff_macaron.bias\", \"aux_encoder.encoders.10.norm_conv.weight\", \"aux_encoder.encoders.10.norm_conv.bias\", \"aux_encoder.encoders.10.norm_final.weight\", \"aux_encoder.encoders.10.norm_final.bias\", \"aux_encoder.encoders.11.self_attn.pos_bias_u\", \"aux_encoder.encoders.11.self_attn.pos_bias_v\", \"aux_encoder.encoders.11.self_attn.linear_q.weight\", \"aux_encoder.encoders.11.self_attn.linear_q.bias\", \"aux_encoder.encoders.11.self_attn.linear_k.weight\", \"aux_encoder.encoders.11.self_attn.linear_k.bias\", \"aux_encoder.encoders.11.self_attn.linear_v.weight\", \"aux_encoder.encoders.11.self_attn.linear_v.bias\", \"aux_encoder.encoders.11.self_attn.linear_out.weight\", \"aux_encoder.encoders.11.self_attn.linear_out.bias\", \"aux_encoder.encoders.11.self_attn.linear_pos.weight\", \"aux_encoder.encoders.11.feed_forward.w_1.weight\", \"aux_encoder.encoders.11.feed_forward.w_1.bias\", \"aux_encoder.encoders.11.feed_forward.w_2.weight\", \"aux_encoder.encoders.11.feed_forward.w_2.bias\", \"aux_encoder.encoders.11.conv_module.pointwise_cov1.weight\", \"aux_encoder.encoders.11.conv_module.pointwise_cov1.bias\", \"aux_encoder.encoders.11.conv_module.depthwise_conv.weight\", \"aux_encoder.encoders.11.conv_module.depthwise_conv.bias\", \"aux_encoder.encoders.11.conv_module.norm.weight\", \"aux_encoder.encoders.11.conv_module.norm.bias\", \"aux_encoder.encoders.11.conv_module.norm.running_mean\", \"aux_encoder.encoders.11.conv_module.norm.running_var\", \"aux_encoder.encoders.11.conv_module.norm.num_batches_tracked\", \"aux_encoder.encoders.11.conv_module.pointwise_cov2.weight\", \"aux_encoder.encoders.11.conv_module.pointwise_cov2.bias\", \"aux_encoder.encoders.11.norm_ff.weight\", \"aux_encoder.encoders.11.norm_ff.bias\", \"aux_encoder.encoders.11.norm_mha.weight\", \"aux_encoder.encoders.11.norm_mha.bias\", \"aux_encoder.encoders.11.feed_forward_macaron.w_1.weight\", \"aux_encoder.encoders.11.feed_forward_macaron.w_1.bias\", \"aux_encoder.encoders.11.feed_forward_macaron.w_2.weight\", \"aux_encoder.encoders.11.feed_forward_macaron.w_2.bias\", \"aux_encoder.encoders.11.norm_ff_macaron.weight\", \"aux_encoder.encoders.11.norm_ff_macaron.bias\", \"aux_encoder.encoders.11.norm_conv.weight\", \"aux_encoder.encoders.11.norm_conv.bias\", \"aux_encoder.encoders.11.norm_final.weight\", \"aux_encoder.encoders.11.norm_final.bias\", \"aux_encoder.after_norm.weight\", \"aux_encoder.after_norm.bias\", \"fusion.fc1.weight\", \"fusion.fc1.bias\", \"fusion.bn1.weight\", \"fusion.bn1.bias\", \"fusion.bn1.running_mean\", \"fusion.bn1.running_var\", \"fusion.bn1.num_batches_tracked\", \"fusion.fc2.weight\", \"fusion.fc2.bias\". \n"
          ]
        }
      ]
    },
    {
      "cell_type": "markdown",
      "source": [
        "# 프론트엔드 작업"
      ],
      "metadata": {
        "id": "QNSNRNb2kkgg"
      }
    },
    {
      "cell_type": "code",
      "source": [
        "<!DOCTYPE html>\n",
        "<html>\n",
        "<head>\n",
        "    <title>Auto-AVSR Demo</title>\n",
        "</head>\n",
        "<body>\n",
        "    <h1>Auto-AVSR Speech Recognition</h1>\n",
        "    <video id=\"video\" width=\"640\" height=\"480\" autoplay></video>\n",
        "    <button id=\"startButton\">Start Recording</button>\n",
        "    <button id=\"stopButton\">Stop Recording</button>\n",
        "    <script>\n",
        "        const video = document.getElementById('video');\n",
        "        const startButton = document.getElementById('startButton');\n",
        "        const stopButton = document.getElementById('stopButton');\n",
        "        let mediaRecorder;\n",
        "        let recordedBlobs = [];\n",
        "\n",
        "        async function init() {\n",
        "            const stream = await navigator.mediaDevices.getUserMedia({ video: true, audio: true });\n",
        "            video.srcObject = stream;\n",
        "\n",
        "            let options = { mimeType: 'video/webm;codecs=vp9,opus' };\n",
        "            mediaRecorder = new MediaRecorder(stream, options);\n",
        "\n",
        "            mediaRecorder.ondataavailable = (event) => {\n",
        "                if (event.data && event.data.size > 0) {\n",
        "                    recordedBlobs.push(event.data);\n",
        "                }\n",
        "            };\n",
        "\n",
        "            mediaRecorder.onstop = async () => {\n",
        "                const blob = new Blob(recordedBlobs, { type: 'video/webm' });\n",
        "                const formData = new FormData();\n",
        "                formData.append('file', blob, 'recording.webm');\n",
        "\n",
        "                const response = await fetch('/upload', {\n",
        "                    method: 'POST',\n",
        "                    body: formData\n",
        "                });\n",
        "                const result = await response.json();\n",
        "                alert(result.transcription);\n",
        "            };\n",
        "        }\n",
        "\n",
        "        startButton.addEventListener('click', () => {\n",
        "            recordedBlobs = [];\n",
        "            mediaRecorder.start();\n",
        "        });\n",
        "\n",
        "        stopButton.addEventListener('click', () => {\n",
        "            mediaRecorder.stop();\n",
        "        });\n",
        "\n",
        "        init();\n",
        "    </script>\n",
        "</body>\n",
        "</html>\n"
      ],
      "metadata": {
        "colab": {
          "base_uri": "https://localhost:8080/",
          "height": 105
        },
        "id": "cNNmmjwYijN-",
        "outputId": "030608ad-8f63-41d3-8375-26bdd90122bc"
      },
      "execution_count": 1,
      "outputs": [
        {
          "output_type": "error",
          "ename": "SyntaxError",
          "evalue": "invalid syntax (<ipython-input-1-151d36d8c57f>, line 1)",
          "traceback": [
            "\u001b[0;36m  File \u001b[0;32m\"<ipython-input-1-151d36d8c57f>\"\u001b[0;36m, line \u001b[0;32m1\u001b[0m\n\u001b[0;31m    <!DOCTYPE html>\u001b[0m\n\u001b[0m    ^\u001b[0m\n\u001b[0;31mSyntaxError\u001b[0m\u001b[0;31m:\u001b[0m invalid syntax\n"
          ]
        }
      ]
    },
    {
      "cell_type": "markdown",
      "source": [
        "#백엔드 작업(로컬로 영상이랑 음성 받기)"
      ],
      "metadata": {
        "id": "FVP9Uy-mko3X"
      }
    },
    {
      "cell_type": "code",
      "source": [
        "from flask import Flask, request, jsonify\n",
        "import torch\n",
        "from model import AutoAVSRModel  # 모델을 불러오는 코드\n",
        "import torchaudio\n",
        "import torchvision\n",
        "import moviepy.editor as mp\n",
        "\n",
        "app = Flask(__name__)\n",
        "\n",
        "# Pretrained model load\n",
        "model = AutoAVSRModel()\n",
        "model.load_state_dict(torch.load('path_to_pretrained_model.pth'))\n",
        "model.eval()\n",
        "\n",
        "def process_video(video_path):\n",
        "    video = mp.VideoFileClip(video_path)\n",
        "    audio = video.audio\n",
        "    audio_path = video_path.replace('.webm', '.wav')\n",
        "    audio.write_audiofile(audio_path)\n",
        "\n",
        "    waveform, _ = torchaudio.load(audio_path)\n",
        "    video_tensor = torchvision.io.read_video(video_path, pts_unit='sec', output_format='THWC')[0]\n",
        "    video_tensor = video_tensor.permute((0, 3, 1, 2))\n",
        "\n",
        "    return waveform, video_tensor\n",
        "\n",
        "@app.route('/upload', methods=['POST'])\n",
        "def upload_file():\n",
        "    if 'file' not in request.files:\n",
        "        return jsonify({'error': 'No file provided'}), 400\n",
        "\n",
        "    file = request.files['file']\n",
        "    file_path = f'./uploads/{file.filename}'\n",
        "    file.save(file_path)\n",
        "\n",
        "    waveform, video_tensor = process_video(file_path)\n",
        "\n",
        "    # Auto-AVSR 모델을 사용하여 예측 수행\n",
        "    with torch.no_grad():\n",
        "        result = model(waveform, video_tensor)\n",
        "\n",
        "    transcription = result['transcription']\n",
        "    return jsonify({'transcription': transcription})\n",
        "\n",
        "if __name__ == '__main__':\n",
        "    app.run(debug=True)\n"
      ],
      "metadata": {
        "id": "j7kqwIybkr0x"
      },
      "execution_count": null,
      "outputs": []
    },
    {
      "cell_type": "markdown",
      "source": [
        "#백엔드 작업(모델 돌리기)"
      ],
      "metadata": {
        "id": "ZK3MC7knksQT"
      }
    },
    {
      "cell_type": "code",
      "source": [
        "from flask import Flask, request, jsonify, render_template_string\n",
        "import torch\n",
        "from model import AutoAVSRModel  # 모델을 불러오는 코드\n",
        "import torchaudio\n",
        "import torchvision\n",
        "import moviepy.editor as mp\n",
        "from flask_ngrok import run_with_ngrok\n",
        "\n",
        "app = Flask(__name__)\n",
        "run_with_ngrok(app)\n",
        "\n",
        "# HTML 템플릿\n",
        "html_template = \"\"\"\n",
        "<!DOCTYPE html>\n",
        "<html>\n",
        "<head>\n",
        "    <title>Auto-AVSR Demo</title>\n",
        "</head>\n",
        "<body>\n",
        "    <h1>Auto-AVSR Speech Recognition</h1>\n",
        "    <video id=\"video\" width=\"640\" height=\"480\" autoplay></video>\n",
        "    <button id=\"startButton\">Start Recording</button>\n",
        "    <button id=\"stopButton\">Stop Recording</button>\n",
        "    <script>\n",
        "        const video = document.getElementById('video');\n",
        "        const startButton = document.getElementById('startButton');\n",
        "        const stopButton = document.getElementById('stopButton');\n",
        "        let mediaRecorder;\n",
        "        let recordedBlobs = [];\n",
        "\n",
        "        async function init() {\n",
        "            const stream = await navigator.mediaDevices.getUserMedia({ video: true, audio: true });\n",
        "            video.srcObject = stream;\n",
        "\n",
        "            let options = { mimeType: 'video/webm;codecs=vp9,opus' };\n",
        "            mediaRecorder = new MediaRecorder(stream, options);\n",
        "\n",
        "            mediaRecorder.ondataavailable = (event) => {\n",
        "                if (event.data && event.data.size > 0) {\n",
        "                    recordedBlobs.push(event.data);\n",
        "                }\n",
        "            };\n",
        "\n",
        "            mediaRecorder.onstop = async () => {\n",
        "                const blob = new Blob(recordedBlobs, { type: 'video/webm' });\n",
        "                const formData = new FormData();\n",
        "                formData.append('file', blob, 'recording.webm');\n",
        "\n",
        "                const response = await fetch('/upload', {\n",
        "                    method: 'POST',\n",
        "                    body: formData\n",
        "                });\n",
        "                const result = await response.json();\n",
        "                alert(result.transcription);\n",
        "            };\n",
        "        }\n",
        "\n",
        "        startButton.addEventListener('click', () => {\n",
        "            recordedBlobs = [];\n",
        "            mediaRecorder.start();\n",
        "        });\n",
        "\n",
        "        stopButton.addEventListener('click', () => {\n",
        "            mediaRecorder.stop();\n",
        "        });\n",
        "\n",
        "        init();\n",
        "    </script>\n",
        "</body>\n",
        "</html>\n",
        "\"\"\"\n",
        "\n",
        "# Pretrained model load\n",
        "model = AutoAVSRModel()\n",
        "model.load_state_dict(torch.load('path_to_pretrained_model.pth'))\n",
        "model.eval()\n",
        "\n",
        "def process_video(video_path):\n",
        "    video = mp.VideoFileClip(video_path)\n",
        "    audio = video.audio\n",
        "    audio_path = video_path.replace('.webm', '.wav')\n",
        "    audio.write_audiofile(audio_path)\n",
        "\n",
        "    waveform, _ = torchaudio.load(audio_path)\n",
        "    video_tensor = torchvision.io.read_video(video_path, pts_unit='sec', output_format='THWC')[0]\n",
        "    video_tensor = video_tensor.permute((0, 3, 1, 2))\n",
        "\n",
        "    return waveform, video_tensor\n",
        "\n",
        "@app.route('/')\n",
        "def index():\n",
        "    return render_template_string(html_template)\n",
        "\n",
        "@app.route('/upload', methods=['POST'])\n",
        "def upload_file():\n",
        "    if 'file' not in request.files:\n",
        "        return jsonify({'error': 'No file provided'}), 400\n",
        "\n",
        "    file = request.files['file']\n",
        "    file_path = f'./uploads/{file.filename}'\n",
        "    file.save(file_path)\n",
        "\n",
        "    waveform, video_tensor = process_video(file_path)\n",
        "\n",
        "    # Auto-AVSR 모델을 사용하여 예측 수행\n",
        "    with torch.no_grad():\n",
        "        result = model(waveform, video_tensor)\n",
        "\n",
        "    transcription = result['transcription']\n",
        "    return jsonify({'transcription': transcription})\n",
        "\n",
        "if __name__ == '__main__':\n",
        "    app.run()\n"
      ],
      "metadata": {
        "colab": {
          "base_uri": "https://localhost:8080/",
          "height": 446
        },
        "id": "OG4tQLTYktXA",
        "outputId": "b6149d8f-a8d8-4f43-c10d-4ae8da5e5d7f"
      },
      "execution_count": 3,
      "outputs": [
        {
          "output_type": "error",
          "ename": "ModuleNotFoundError",
          "evalue": "No module named 'model'",
          "traceback": [
            "\u001b[0;31m---------------------------------------------------------------------------\u001b[0m",
            "\u001b[0;31mModuleNotFoundError\u001b[0m                       Traceback (most recent call last)",
            "\u001b[0;32m<ipython-input-3-011ca61d13b5>\u001b[0m in \u001b[0;36m<cell line: 3>\u001b[0;34m()\u001b[0m\n\u001b[1;32m      1\u001b[0m \u001b[0;32mfrom\u001b[0m \u001b[0mflask\u001b[0m \u001b[0;32mimport\u001b[0m \u001b[0mFlask\u001b[0m\u001b[0;34m,\u001b[0m \u001b[0mrequest\u001b[0m\u001b[0;34m,\u001b[0m \u001b[0mjsonify\u001b[0m\u001b[0;34m,\u001b[0m \u001b[0mrender_template_string\u001b[0m\u001b[0;34m\u001b[0m\u001b[0;34m\u001b[0m\u001b[0m\n\u001b[1;32m      2\u001b[0m \u001b[0;32mimport\u001b[0m \u001b[0mtorch\u001b[0m\u001b[0;34m\u001b[0m\u001b[0;34m\u001b[0m\u001b[0m\n\u001b[0;32m----> 3\u001b[0;31m \u001b[0;32mfrom\u001b[0m \u001b[0mmodel\u001b[0m \u001b[0;32mimport\u001b[0m \u001b[0mAutoAVSRModel\u001b[0m  \u001b[0;31m# 모델을 불러오는 코드\u001b[0m\u001b[0;34m\u001b[0m\u001b[0;34m\u001b[0m\u001b[0m\n\u001b[0m\u001b[1;32m      4\u001b[0m \u001b[0;32mimport\u001b[0m \u001b[0mtorchaudio\u001b[0m\u001b[0;34m\u001b[0m\u001b[0;34m\u001b[0m\u001b[0m\n\u001b[1;32m      5\u001b[0m \u001b[0;32mimport\u001b[0m \u001b[0mtorchvision\u001b[0m\u001b[0;34m\u001b[0m\u001b[0;34m\u001b[0m\u001b[0m\n",
            "\u001b[0;31mModuleNotFoundError\u001b[0m: No module named 'model'",
            "",
            "\u001b[0;31m---------------------------------------------------------------------------\u001b[0;32m\nNOTE: If your import is failing due to a missing package, you can\nmanually install dependencies using either !pip or !apt.\n\nTo view examples of installing some common dependencies, click the\n\"Open Examples\" button below.\n\u001b[0;31m---------------------------------------------------------------------------\u001b[0m\n"
          ],
          "errorDetails": {
            "actions": [
              {
                "action": "open_url",
                "actionText": "Open Examples",
                "url": "/notebooks/snippets/importing_libraries.ipynb"
              }
            ]
          }
        }
      ]
    },
    {
      "cell_type": "code",
      "source": [
        "!python app.py\n"
      ],
      "metadata": {
        "colab": {
          "base_uri": "https://localhost:8080/"
        },
        "id": "BrEQhkjMlRgZ",
        "outputId": "9fd513fa-3c1e-44cd-d2f1-3e76c598f878"
      },
      "execution_count": 4,
      "outputs": [
        {
          "output_type": "stream",
          "name": "stdout",
          "text": [
            "python3: can't open file '/content/app.py': [Errno 2] No such file or directory\n"
          ]
        }
      ]
    },
    {
      "cell_type": "code",
      "source": [
        "from flask import Flask, request, jsonify, render_template_string\n",
        "import torch\n",
        "# from model import AutoAVSRModel  # 모델을 불러오는 코드\n",
        "import torchaudio\n",
        "import torchvision\n",
        "import moviepy.editor as mp\n",
        "from flask_ngrok import run_with_ngrok\n",
        "\n",
        "# 모델 클래스가 포함된 파일 import 경로를 수정합니다.\n",
        "from espnet.nets.auto_avsr_model import AutoAVSRModel\n",
        "\n",
        "app = Flask(__name__)\n",
        "run_with_ngrok(app)\n",
        "\n",
        "# HTML 템플릿\n",
        "html_template = \"\"\"\n",
        "<!DOCTYPE html>\n",
        "<html>\n",
        "<head>\n",
        "    <title>Auto-AVSR Demo</title>\n",
        "</head>\n",
        "<body>\n",
        "    <h1>Auto-AVSR Speech Recognition</h1>\n",
        "    <video id=\"video\" width=\"640\" height=\"480\" autoplay></video>\n",
        "    <button id=\"startButton\">Start Recording</button>\n",
        "    <button id=\"stopButton\">Stop Recording</button>\n",
        "    <script>\n",
        "        const video = document.getElementById('video');\n",
        "        const startButton = document.getElementById('startButton');\n",
        "        const stopButton = document.getElementById('stopButton');\n",
        "        let mediaRecorder;\n",
        "        let recordedBlobs = [];\n",
        "\n",
        "        async function init() {\n",
        "            const stream = await navigator.mediaDevices.getUserMedia({ video: true, audio: true });\n",
        "            video.srcObject = stream;\n",
        "\n",
        "            let options = { mimeType: 'video/webm;codecs=vp9,opus' };\n",
        "            mediaRecorder = new MediaRecorder(stream, options);\n",
        "\n",
        "            mediaRecorder.ondataavailable = (event) => {\n",
        "                if (event.data && event.data.size > 0) {\n",
        "                    recordedBlobs.push(event.data);\n",
        "                }\n",
        "            };\n",
        "\n",
        "            mediaRecorder.onstop = async () => {\n",
        "                const blob = new Blob(recordedBlobs, { type: 'video/webm' });\n",
        "                const formData = new FormData();\n",
        "                formData.append('file', blob, 'recording.webm');\n",
        "\n",
        "                const response = await fetch('/upload', {\n",
        "                    method: 'POST',\n",
        "                    body: formData\n",
        "                });\n",
        "                const result = await response.json();\n",
        "                alert(result.transcription);\n",
        "            };\n",
        "        }\n",
        "\n",
        "        startButton.addEventListener('click', () => {\n",
        "            recordedBlobs = [];\n",
        "            mediaRecorder.start();\n",
        "        });\n",
        "\n",
        "        stopButton.addEventListener('click', () => {\n",
        "            mediaRecorder.stop();\n",
        "        });\n",
        "\n",
        "        init();\n",
        "    </script>\n",
        "</body>\n",
        "</html>\n",
        "\"\"\"\n",
        "\n",
        "# Pretrained model load\n",
        "model = AutoAVSRModel()\n",
        "model.load_state_dict(torch.load('path_to_pretrained_model.pth'))\n",
        "model.eval()\n",
        "\n",
        "def process_video(video_path):\n",
        "    video = mp.VideoFileClip(video_path)\n",
        "    audio = video.audio\n",
        "    audio_path = video_path.replace('.webm', '.wav')\n",
        "    audio.write_audiofile(audio_path)\n",
        "\n",
        "    waveform, _ = torchaudio.load(audio_path)\n",
        "    video_tensor = torchvision.io.read_video(video_path, pts_unit='sec', output_format='THWC')[0]\n",
        "    video_tensor = video_tensor.permute((0, 3, 1, 2))\n",
        "\n",
        "    return waveform, video_tensor\n",
        "\n",
        "@app.route('/')\n",
        "def index():\n",
        "    return render_template_string(html_template)\n",
        "\n",
        "@app.route('/upload', methods=['POST'])\n",
        "def upload_file():\n",
        "    if 'file' not in request.files:\n",
        "        return jsonify({'error': 'No file provided'}), 400\n",
        "\n",
        "    file = request.files['file']\n",
        "    file_path = f'./uploads/{file.filename}'\n",
        "    file.save(file_path)\n",
        "\n",
        "    waveform, video_tensor = process_video(file_path)\n",
        "\n",
        "    # Auto-AVSR 모델을 사용하여 예측 수행\n",
        "    with torch.no_grad():\n",
        "        result = model(waveform, video_tensor)\n",
        "\n",
        "    transcription = result['transcription']\n",
        "    return jsonify({'transcription': transcription})\n",
        "\n",
        "if __name__ == '__main__':\n",
        "    app.run()\n"
      ],
      "metadata": {
        "id": "d0MwVV-0n7-Q"
      },
      "execution_count": null,
      "outputs": []
    }
  ]
}